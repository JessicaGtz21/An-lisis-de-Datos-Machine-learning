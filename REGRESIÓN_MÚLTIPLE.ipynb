{
  "nbformat": 4,
  "nbformat_minor": 0,
  "metadata": {
    "colab": {
      "provenance": [],
      "authorship_tag": "ABX9TyP/yf73+Ab16PkmnG1BOAZb",
      "include_colab_link": true
    },
    "kernelspec": {
      "name": "python3",
      "display_name": "Python 3"
    },
    "language_info": {
      "name": "python"
    }
  },
  "cells": [
    {
      "cell_type": "markdown",
      "metadata": {
        "id": "view-in-github",
        "colab_type": "text"
      },
      "source": [
        "<a href=\"https://colab.research.google.com/github/JessicaGtz21/regresi-n-lineal-homicidios-/blob/main/REGRESI%C3%93N_M%C3%9ALTIPLE.ipynb\" target=\"_parent\"><img src=\"https://colab.research.google.com/assets/colab-badge.svg\" alt=\"Open In Colab\"/></a>"
      ]
    },
    {
      "cell_type": "code",
      "execution_count": null,
      "metadata": {
        "colab": {
          "base_uri": "https://localhost:8080/"
        },
        "id": "RYScMYZdIkzt",
        "outputId": "ad949085-ee89-4cab-99b3-a4d5b01ffef2"
      },
      "outputs": [
        {
          "output_type": "stream",
          "name": "stdout",
          "text": [
            "   distress_ct  temperature  field_check_pressure  flight_num\n",
            "0            0           66                    50           1\n",
            "1            1           70                    50           2\n",
            "2            0           69                    50           3\n",
            "3            0           68                    50           4\n",
            "4            0           67                    50           5\n"
          ]
        }
      ],
      "source": [
        "#Regresión multiple\n",
        "#La regresión múltiple es la extensión de la rgresión lineal\n",
        "#En este caso , frente a la predicción de dos o más variables\n",
        "import pandas as pd\n",
        "import matplotlib.pyplot as plt\n",
        "from sklearn import linear_model\n",
        "\n",
        "\n",
        "df = pd.read_csv('/content/challe (2).csv')\n",
        "\n",
        "print(df.head())\n"
      ]
    },
    {
      "cell_type": "code",
      "source": [
        "# A continuación necesitamos especificar quien vive en el eje y y en el eje x\n",
        "\n",
        "x = df [['temperature']]\n",
        "y = df ['distress_ct']\n",
        "\n",
        "\n",
        "#Ahora procedemos a llamar la sección de la regresión lineal multiple\n",
        "regr = linear_model.LinearRegression()\n",
        "regr.fit(x,y)\n",
        "\n",
        "#Ahora procedemos a llamar la sección de la regresión lineal multiple\n",
        "regr = linear_model.LinearRegression()\n",
        "regr.fit(x,y)"
      ],
      "metadata": {
        "colab": {
          "base_uri": "https://localhost:8080/"
        },
        "id": "VR1mKRavKtf3",
        "outputId": "e74edc96-be05-4078-dec0-26922fc96e04"
      },
      "execution_count": null,
      "outputs": [
        {
          "output_type": "execute_result",
          "data": {
            "text/plain": [
              "LinearRegression()"
            ]
          },
          "metadata": {},
          "execution_count": 4
        }
      ]
    },
    {
      "cell_type": "code",
      "source": [
        "#ahora corregire el error de x y y por a y b , tomando en cuenta el intercept\n",
        "import matplotlib.pyplot as plt\n",
        "import numpy as np\n",
        "from  scipy import stats\n",
        "x = [66,70,69,68,67,72,73,70,57,63,70,78,67,53,67,75,70,81,76,79,75,76,58]\n",
        "y = [0,1,0,0,0,0,0,0,1,1,1,0,0,2,0,0,0,0,0,0,2,0,1]\n",
        "plt.scatter(x,y)\n",
        "plt.show()\n",
        "slope, intercept,r,p,std_err = stats.linregress(x,y)\n",
        "def myfunc(x):\n",
        "  return slope * x + intercept\n",
        "mymodel = list(map(myfunc, x))\n",
        "plt.scatter(x,y)\n",
        "plt.plot(x, mymodel)\n",
        "plt.show()"
      ],
      "metadata": {
        "colab": {
          "base_uri": "https://localhost:8080/",
          "height": 513
        },
        "id": "7vgFjC6oMzyV",
        "outputId": "4198688d-7d25-4ab6-8583-44bfb0b47ffe"
      },
      "execution_count": null,
      "outputs": [
        {
          "output_type": "display_data",
          "data": {
            "text/plain": [
              "<Figure size 432x288 with 1 Axes>"
            ],
            "image/png": "[encoded data removed]"
          },
          "metadata": {
            "needs_background": "light"
          }
        },
        {
          "output_type": "display_data",
          "data": {
            "text/plain": [
              "<Figure size 432x288 with 1 Axes>"
            ],
            "image/png": "[encoded data removed]"
          },
          "metadata": {
            "needs_background": "light"
          }
        }
      ]
    },
    {
      "cell_type": "code",
      "source": [
        "print(slope)"
      ],
      "metadata": {
        "colab": {
          "base_uri": "https://localhost:8080/"
        },
        "id": "r93bmlgfQRk6",
        "outputId": "3d03a5a0-7534-4cff-e071-19b41e7f1c4e"
      },
      "execution_count": null,
      "outputs": [
        {
          "output_type": "stream",
          "name": "stdout",
          "text": [
            "-0.047539682539682535\n"
          ]
        }
      ]
    },
    {
      "cell_type": "code",
      "source": [
        "print(intercept)"
      ],
      "metadata": {
        "colab": {
          "base_uri": "https://localhost:8080/"
        },
        "id": "S605cOyIQYIz",
        "outputId": "0d2cd753-c829-40f1-bf3e-7698ae0b527c"
      },
      "execution_count": null,
      "outputs": [
        {
          "output_type": "stream",
          "name": "stdout",
          "text": [
            "3.6984126984126977\n"
          ]
        }
      ]
    }
  ]
}