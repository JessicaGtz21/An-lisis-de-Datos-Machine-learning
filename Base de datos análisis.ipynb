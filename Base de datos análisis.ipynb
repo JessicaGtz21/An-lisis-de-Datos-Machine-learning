{
  "nbformat": 4,
  "nbformat_minor": 0,
  "metadata": {
    "colab": {
      "provenance": [],
      "authorship_tag": "ABX9TyMszmlu86PhyaCRZsONHhun",
      "include_colab_link": true
    },
    "kernelspec": {
      "name": "python3",
      "display_name": "Python 3"
    },
    "language_info": {
      "name": "python"
    }
  },
  "cells": [
    {
      "cell_type": "markdown",
      "metadata": {
        "id": "view-in-github",
        "colab_type": "text"
      },
      "source": [
        "<a href=\"https://colab.research.google.com/github/JessicaGtz21/regresi-n-lineal-homicidios-/blob/main/Base%20de%20datos%20an%C3%A1lisis.ipynb\" target=\"_parent\"><img src=\"https://colab.research.google.com/assets/colab-badge.svg\" alt=\"Open In Colab\"/></a>"
      ]
    },
    {
      "cell_type": "code",
      "execution_count": null,
      "metadata": {
        "id": "G7egIs1L78EL"
      },
      "outputs": [],
      "source": [
        "#Importar líbrerías#"
      ]
    },
    {
      "cell_type": "code",
      "source": [
        "import pandas as pd\n",
        "import numpy as np\n",
        "import matplotlib.pyplot as plt\n",
        "import seaborn as sns\n",
        "import chardet"
      ],
      "metadata": {
        "id": "gmmalDrL8Zrw"
      },
      "execution_count": 19,
      "outputs": []
    },
    {
      "cell_type": "markdown",
      "source": [
        "1) importar base de datos"
      ],
      "metadata": {
        "id": "yDbbPl_hCoN4"
      }
    },
    {
      "cell_type": "code",
      "source": [
        "#Clasificación binaria: la tarea de clasificar los elementos de un conjunto en dos grupos sobre la base de una regla de clasificación .\n",
        "#En una base de datos: modificamos y clasificamos por ejemplo 001, con la base que tenemos que generar una nueva columna en donde colocaremos los ceros y unos explicando el por qué poner el orden de los elementos."
      ],
      "metadata": {
        "id": "Uz_kWIXl82Gw"
      },
      "execution_count": null,
      "outputs": []
    },
    {
      "cell_type": "markdown",
      "source": [
        "2) analizar si tenemos enteros,flotantes, etc"
      ],
      "metadata": {
        "id": "ypnrq7vBC5iU"
      }
    },
    {
      "cell_type": "code",
      "source": [
        "# Ruta del archivo de Excel en el sistema de archivos local o en la web\n",
        "excel_path = '/content/2017_Binario.xlsx'  # Cambia esto por la ruta real de tu archivo\n",
        "# Cargar el archivo de Excel en un DataFrame de Pandas\n",
        "df = pd.read_excel(excel_path)\n",
        "# Información sobre valores nulos y tipos de datos\n",
        "print(\"Información sobre valores nulos y tipos de datos:\")\n",
        "print(df.info())\n",
        "#print(df.head())\n"
      ],
      "metadata": {
        "id": "UEwDECjVGMi6"
      },
      "execution_count": null,
      "outputs": []
    },
    {
      "cell_type": "markdown",
      "source": [
        "3) punto de vista estadistico"
      ],
      "metadata": {
        "id": "7vYiIM4XHm66"
      }
    },
    {
      "cell_type": "code",
      "source": [
        "# Resumen estadístico de las columnas\n",
        "print(\"\\nResumen estadístico de las columnas:\")\n",
        "print(df.describe())\n"
      ],
      "metadata": {
        "id": "HLzcFBDlGzCW"
      },
      "execution_count": null,
      "outputs": []
    },
    {
      "cell_type": "markdown",
      "source": [
        "4) aqui anotamos que necesitamos entre bases de datos numericas y categoricas"
      ],
      "metadata": {
        "id": "k3lQ9KBxH-cV"
      }
    },
    {
      "cell_type": "code",
      "source": [
        "#tarea  analizar con ejemplos sencillos con el codigo de abajo."
      ],
      "metadata": {
        "id": "X38YgG6NI4gh"
      },
      "execution_count": null,
      "outputs": []
    },
    {
      "cell_type": "code",
      "source": [
        "from sklearn import preprocessing\n",
        "le = preprocessing.LabelEncoder()\n",
        "df = df.apply(le.fit_transform)\n",
        "df"
      ],
      "metadata": {
        "id": "VMrejw9SH99-"
      },
      "execution_count": null,
      "outputs": []
    },
    {
      "cell_type": "markdown",
      "source": [
        "5.1) dada la transformacion anterior (labelencoder) aplicar la instruccion: df.describe().transpose()"
      ],
      "metadata": {
        "id": "k91RyuCfK_kq"
      }
    },
    {
      "cell_type": "code",
      "source": [
        "df.describe().transpose()"
      ],
      "metadata": {
        "id": "jkV6fqzjK9SS"
      },
      "execution_count": null,
      "outputs": []
    },
    {
      "cell_type": "markdown",
      "source": [
        "6) verificar si existe un valor nulo"
      ],
      "metadata": {
        "id": "svBGrEhbJUBv"
      }
    },
    {
      "cell_type": "code",
      "source": [
        "# Contar  los valores nulos en cada columna\n",
        "print(\"\\nContar los valores nulos en cada columna:\")\n",
        "print(df.isnull().sum())"
      ],
      "metadata": {
        "id": "ApmXk9qNJ9Vj"
      },
      "execution_count": null,
      "outputs": []
    },
    {
      "cell_type": "markdown",
      "source": [
        "7) mostrar en una visualizacion cuantos 1 y 0 existen en la columna binario tipo"
      ],
      "metadata": {
        "id": "9L4k6AtyLgQ4"
      }
    },
    {
      "cell_type": "code",
      "source": [
        "conteo_valores = df['binario tipo'].value_counts()\n",
        "print(conteo_valores)"
      ],
      "metadata": {
        "colab": {
          "base_uri": "https://localhost:8080/"
        },
        "id": "QkEf4sxyLg9W",
        "outputId": "9e8dbfda-b1c0-4f3e-d403-ce8ca753ed26"
      },
      "execution_count": 36,
      "outputs": [
        {
          "output_type": "stream",
          "name": "stdout",
          "text": [
            "1    37\n",
            "0    12\n",
            "Name: binario tipo, dtype: int64\n"
          ]
        }
      ]
    },
    {
      "cell_type": "markdown",
      "source": [
        "8) es fundamental analizar la relacion que existe entre los datos"
      ],
      "metadata": {
        "id": "LU7kCy8hN9sQ"
      }
    },
    {
      "cell_type": "code",
      "source": [
        "#TAREA    desde el punto matematico o estadistico explicar como se relacionan 2 variables,2 datos"
      ],
      "metadata": {
        "id": "NUCMe9HBO4jC"
      },
      "execution_count": null,
      "outputs": []
    },
    {
      "cell_type": "code",
      "source": [
        "df.corr()['binario tipo'].sort_values()"
      ],
      "metadata": {
        "colab": {
          "base_uri": "https://localhost:8080/"
        },
        "id": "_lG3I2fYOHsL",
        "outputId": "59b4ce07-1214-4912-81f0-c85762b85c6c"
      },
      "execution_count": 44,
      "outputs": [
        {
          "output_type": "stream",
          "name": "stderr",
          "text": [
            "<ipython-input-44-ea29705778a9>:1: FutureWarning: The default value of numeric_only in DataFrame.corr is deprecated. In a future version, it will default to False. Select only valid columns or specify the value of numeric_only to silence this warning.\n",
            "  df.corr()['binario tipo'].sort_values()\n"
          ]
        },
        {
          "output_type": "execute_result",
          "data": {
            "text/plain": [
              "periodo.1      -0.129265\n",
              "edad           -0.098716\n",
              "dia             0.153866\n",
              "binario tipo    1.000000\n",
              "mes                  NaN\n",
              "periodo              NaN\n",
              "Name: binario tipo, dtype: float64"
            ]
          },
          "metadata": {},
          "execution_count": 44
        }
      ]
    },
    {
      "cell_type": "markdown",
      "source": [
        "visualizar correlacion en un grafica"
      ],
      "metadata": {
        "id": "V6b7no-vPmGB"
      }
    },
    {
      "cell_type": "code",
      "source": [
        "df.corr()['binario tipo'][:-1].sort_values().plot(kind ='bar')"
      ],
      "metadata": {
        "colab": {
          "base_uri": "https://localhost:8080/",
          "height": 554
        },
        "id": "IqsI0qJ6PngB",
        "outputId": "5a417c3a-a498-41fa-b936-bab9cf94cffb"
      },
      "execution_count": 43,
      "outputs": [
        {
          "output_type": "stream",
          "name": "stderr",
          "text": [
            "<ipython-input-43-42baec74492d>:1: FutureWarning: The default value of numeric_only in DataFrame.corr is deprecated. In a future version, it will default to False. Select only valid columns or specify the value of numeric_only to silence this warning.\n",
            "  df.corr()['binario tipo'][:-1].sort_values().plot(kind ='bar')\n"
          ]
        },
        {
          "output_type": "execute_result",
          "data": {
            "text/plain": [
              "<Axes: >"
            ]
          },
          "metadata": {},
          "execution_count": 43
        },
        {
          "output_type": "display_data",
          "data": {
            "text/plain": [
              "<Figure size 640x480 with 1 Axes>"
            ],
            "image/png": "[encoded data removed]"
          },
          "metadata": {}
        }
      ]
    }
  ]
}