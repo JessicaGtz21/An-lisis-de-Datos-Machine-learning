{
  "nbformat": 4,
  "nbformat_minor": 0,
  "metadata": {
    "colab": {
      "provenance": [],
      "authorship_tag": "ABX9TyPc7X3RjhU9jCJqMHnGA038",
      "include_colab_link": true
    },
    "kernelspec": {
      "name": "python3",
      "display_name": "Python 3"
    },
    "language_info": {
      "name": "python"
    }
  },
  "cells": [
    {
      "cell_type": "markdown",
      "metadata": {
        "id": "view-in-github",
        "colab_type": "text"
      },
      "source": [
        "<a href=\"https://colab.research.google.com/github/JessicaGtz21/regresi-n-lineal-homicidios-/blob/main/B%C3%BAsqueda_recursiva_de_n%C3%BAmeros_binarios.ipynb\" target=\"_parent\"><img src=\"https://colab.research.google.com/assets/colab-badge.svg\" alt=\"Open In Colab\"/></a>"
      ]
    },
    {
      "cell_type": "code",
      "execution_count": 1,
      "metadata": {
        "id": "iZlw4tweC-nh"
      },
      "outputs": [],
      "source": [
        "def binary_search_recursive(arr, target, left, right):\n",
        "    if left <= right:\n",
        "        mid = (left + right) // 2\n",
        "        if arr[mid] == target:\n",
        "            return mid  # Elemento encontrado en la posición 'mid'\n",
        "        elif arr[mid] < target:\n",
        "            return binary_search_recursive(arr, target, mid + 1, right)  # Buscar en la mitad derecha\n",
        "        else:\n",
        "            return binary_search_recursive(arr, target, left, mid - 1)  # Buscar en la mitad izquierda\n",
        "    else:\n",
        "        return -1  # Elemento no encontrado\n",
        "\n"
      ]
    },
    {
      "cell_type": "code",
      "source": [
        "# Ejemplo de uso\n",
        "my_list = [1, 4, 7, 9, 12, 15, 18, 21]\n",
        "target_number = 67\n",
        "result = binary_search_recursive(my_list, target_number, 0, len(my_list) - 1)\n",
        "\n",
        "if result != -1:\n",
        "    print(f\"El elemento {target_number} se encuentra en la posición {result}.\")\n",
        "else:\n",
        "    print(f\"El elemento {target_number} no está en la lista.\")\n"
      ],
      "metadata": {
        "colab": {
          "base_uri": "https://localhost:8080/"
        },
        "id": "C-DOktxDDIp1",
        "outputId": "49c79b83-23ee-4ba9-9c99-777f60ad0334"
      },
      "execution_count": 4,
      "outputs": [
        {
          "output_type": "stream",
          "name": "stdout",
          "text": [
            "El elemento 67 no está en la lista.\n"
          ]
        }
      ]
    }
  ]
}