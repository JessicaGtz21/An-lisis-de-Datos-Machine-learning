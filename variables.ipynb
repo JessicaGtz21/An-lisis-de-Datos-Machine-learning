{
  "nbformat": 4,
  "nbformat_minor": 0,
  "metadata": {
    "colab": {
      "provenance": [],
      "authorship_tag": "ABX9TyPGk7raUA1EFLJAlzX6JgjY",
      "include_colab_link": true
    },
    "kernelspec": {
      "name": "python3",
      "display_name": "Python 3"
    },
    "language_info": {
      "name": "python"
    }
  },
  "cells": [
    {
      "cell_type": "markdown",
      "metadata": {
        "id": "view-in-github",
        "colab_type": "text"
      },
      "source": [
        "<a href=\"https://colab.research.google.com/github/JessicaGtz21/regresi-n-lineal-homicidios-/blob/main/variables.ipynb\" target=\"_parent\"><img src=\"https://colab.research.google.com/assets/colab-badge.svg\" alt=\"Open In Colab\"/></a>"
      ]
    },
    {
      "cell_type": "code",
      "execution_count": 7,
      "metadata": {
        "id": "I5F_X2UhxzJX"
      },
      "outputs": [],
      "source": [
        "# Importamos la biblioteca NumPy\n",
        "import numpy as np"
      ]
    },
    {
      "cell_type": "code",
      "source": [
        "# Definimos variables de diferentes tipos\n",
        "# Entero (int)\n",
        "entero = 16\n",
        "# Flotante (float)\n",
        "flotante = 3.1416\n",
        "# Cadena de caracteres (string)\n",
        "cadena = \"Hola soy Jessica\"\n",
        "# Booleano (bool)\n",
        "booleano = False\n",
        "# Arreglo (list)\n",
        "arreglo = [9, 12, 33, 94, 105]"
      ],
      "metadata": {
        "id": "-Q3bWz1nx6RA"
      },
      "execution_count": 8,
      "outputs": []
    },
    {
      "cell_type": "code",
      "source": [
        "# Imprimimos el tipo de cada variable y su valor\n",
        "print(\"Tipo de la variable 'entero':\", type(entero), \"Valor:\", entero)\n",
        "print(\"Tipo de la variable 'flotante':\", type(flotante), \"Valor:\", flotante)\n",
        "print(\"Tipo de la variable 'cadena':\", type(cadena), \"Valor:\", cadena)\n",
        "print(\"Tipo de la variable 'booleano':\", type(booleano), \"Valor:\", booleano)\n",
        "print(\"Tipo de la variable 'arreglo':\", type(arreglo), \"Valor:\", arreglo)"
      ],
      "metadata": {
        "colab": {
          "base_uri": "https://localhost:8080/"
        },
        "id": "bq7N9dhFyIZi",
        "outputId": "1cf5ca25-730f-47cd-9289-5a6006b2ce2f"
      },
      "execution_count": 9,
      "outputs": [
        {
          "output_type": "stream",
          "name": "stdout",
          "text": [
            "Tipo de la variable 'entero': <class 'int'> Valor: 16\n",
            "Tipo de la variable 'flotante': <class 'float'> Valor: 3.1416\n",
            "Tipo de la variable 'cadena': <class 'str'> Valor: Hola soy Jessica\n",
            "Tipo de la variable 'booleano': <class 'bool'> Valor: False\n",
            "Tipo de la variable 'arreglo': <class 'list'> Valor: [9, 12, 33, 94, 105]\n"
          ]
        }
      ]
    },
    {
      "cell_type": "code",
      "source": [
        "# Utilizo  NumPy para demostrar la diferencia entre flotante y entero\n",
        "# Crearé un arreglo NumPy de flotantes\n",
        "arreglo_flotante = np.array([3.14, 2.71890, 1.00009])\n",
        "# Creo un arreglo NumPy de enteros\n",
        "arreglo_entero = np.array([3, 2, 1])\n",
        "# Realiz0 operaciones con los arreglos NumPy\n",
        "suma_flotante = np.sum(arreglo_flotante)\n",
        "suma_entero = np.sum(arreglo_entero)"
      ],
      "metadata": {
        "id": "4DseVFOqyQCH"
      },
      "execution_count": 11,
      "outputs": []
    },
    {
      "cell_type": "code",
      "source": [
        "# Imprimo la suma de los arreglos\n",
        "print(\"\\nSuma del arreglo de flotantes:\", suma_flotante)\n",
        "print(\"Suma del arreglo de enteros:\", suma_entero)\n"
      ],
      "metadata": {
        "colab": {
          "base_uri": "https://localhost:8080/"
        },
        "id": "UmWJa_T-ym_a",
        "outputId": "bced8af7-e130-4c09-e72a-cd7c7493d3a6"
      },
      "execution_count": 12,
      "outputs": [
        {
          "output_type": "stream",
          "name": "stdout",
          "text": [
            "\n",
            "Suma del arreglo de flotantes: 6.85899\n",
            "Suma del arreglo de enteros: 6\n"
          ]
        }
      ]
    }
  ]
}