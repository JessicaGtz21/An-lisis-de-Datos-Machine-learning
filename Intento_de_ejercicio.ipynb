{
  "cells": [
    {
      "cell_type": "markdown",
      "metadata": {
        "id": "view-in-github",
        "colab_type": "text"
      },
      "source": [
        "<a href=\"https://colab.research.google.com/github/JessicaGtz21/regresi-n-lineal-homicidios-/blob/main/Intento_de_ejercicio.ipynb\" target=\"_parent\"><img src=\"https://colab.research.google.com/assets/colab-badge.svg\" alt=\"Open In Colab\"/></a>"
      ]
    },
    {
      "cell_type": "markdown",
      "metadata": {
        "id": "IJVvEIpCZHJU"
      },
      "source": [
        "## Ejercicio\n",
        "\n",
        "Realizar dos programas uno que calcule la varianza y otro que calcule la desviación estándar de la siguiente lista de números:0.269, 0.066,-1.121,-0.349,0.545,0.64,-0.958,-0.114,-1.377,-0.006,1.352,1.006."
      ]
    },
    {
      "cell_type": "markdown",
      "source": [],
      "metadata": {
        "id": "LvRqjZwoZNVJ"
      }
    },
    {
      "cell_type": "markdown",
      "metadata": {
        "id": "Ku46B_RMZHJf"
      },
      "source": [
        "## Solución 1"
      ]
    },
    {
      "cell_type": "code",
      "execution_count": 8,
      "metadata": {
        "id": "rKnjuGR3ZHJh",
        "outputId": "f96027cf-bfee-4658-d940-a131e3e5fd88",
        "colab": {
          "base_uri": "https://localhost:8080/"
        }
      },
      "outputs": [
        {
          "output_type": "stream",
          "name": "stdout",
          "text": [
            "{'media': -0.003916666666666642, 'varianza': 0.6563040833333333, 'desviacion tipica': 0.6563040833333333}\n",
            "{'media': -0.003916666666666642, 'varianza': 0.6563040833333333, 'desviacion tipica': 0.6563040833333333}\n"
          ]
        }
      ],
      "source": [
        "def square(sample):\n",
        "    \"\"\"Esta función que  nos ayudara a calcular los cuadrados de mis números\n",
        "    Parámetros\n",
        "    sample: Es mi  lista de números\n",
        "    Devuelve una lista con los cuadrados de los números de la lista sample.\n",
        "    \"\"\"\n",
        "    list = []\n",
        "    for i in sample:\n",
        "        list.append(i**2)\n",
        "    return list\n",
        "\n",
        "def statistics(sample):\n",
        "    \"\"\"eta unción  calcula la media, varianza y desviación típica de una muestra de números.\n",
        "    Parámetros\n",
        "    sample: Es una lista de números\n",
        "    Devuelve un \"diccionario \"con la media, varianza y desviación típica de los números que esten en sample.\n",
        "    Stat define constantes y funciones para interpretar los resultados\n",
        "    \"\"\"\n",
        "    stat = {}\n",
        "    stat['media'] = sum(sample)/len(sample)\n",
        "    stat['varianza'] = sum(square(sample))/len(sample)-stat['media']\n",
        "    stat['desviacion tipica'] = stat['varianza']\n",
        "    return stat\n",
        "\n",
        "print(statistics([0.269, 0.066,-1.121,-0.349,0.545,0.64,-0.958,-0.114,-1.377,-0.006,1.352,1.006]))\n",
        "print(statistics([0.269, 0.066,-1.121,-0.349,0.545,0.64,-0.958,-0.114,-1.377,-0.006,1.352,1.006]))"
      ]
    },
    {
      "cell_type": "markdown",
      "metadata": {
        "id": "K_InKTNHZHJp"
      },
      "source": [
        "## Solución 2"
      ]
    },
    {
      "cell_type": "code",
      "execution_count": 9,
      "metadata": {
        "id": "2ZPMzjdwZHJr",
        "outputId": "de8a7985-aa05-4c49-8377-654f79294d52",
        "colab": {
          "base_uri": "https://localhost:8080/"
        }
      },
      "outputs": [
        {
          "output_type": "stream",
          "name": "stdout",
          "text": [
            "{'media': -0.003916666666666642, 'varianza': 0.6523720763888888, 'desviacion tipica': 0.8076955344614014}\n",
            "{'media': -0.003916666666666642, 'varianza': 0.6523720763888888, 'desviacion tipica': 0.8076955344614014}\n"
          ]
        }
      ],
      "source": [
        "def square(*sample):\n",
        "    \"\"\"Función que calcula los cuadrados de una lista de números.\n",
        "    Parámetros\n",
        "    sample: Es una secuencia de números separados por comas.\n",
        "    Devuelve una lista con los cuadrados de los números de sample.\n",
        "    \"\"\"\n",
        "    list = []\n",
        "    for i in sample:\n",
        "        list.append(i**2)\n",
        "    return list\n",
        "\n",
        "def statistics(*sample):\n",
        "    \"\"\"Función que calcula la media, varianza y desviación típica de una muestra de números.\n",
        "    Parámetros\n",
        "    sample: Es una secuencia de números separados por comas.\n",
        "    Devuelve un diccionario con la media, varianza y desviación típica de los números en sample.\n",
        "    \"\"\"\n",
        "    stat = {}\n",
        "    stat['media'] = sum(sample)/len(sample)\n",
        "    stat['varianza'] = sum(square(*sample))/len(sample)-stat['media']**2\n",
        "    stat['desviacion tipica'] = stat['varianza']**0.5\n",
        "    return stat\n",
        "\n",
        "print(statistics(0.269, 0.066,-1.121,-0.349,0.545,0.64,-0.958,-0.114,-1.377,-0.006,1.352,1.006))\n",
        "print(statistics(0.269, 0.066,-1.121,-0.349,0.545,0.64,-0.958,-0.114,-1.377,-0.006,1.352,1.006))"
      ]
    }
  ],
  "metadata": {
    "kernelspec": {
      "display_name": "Python 3",
      "language": "python",
      "name": "python3"
    },
    "language_info": {
      "codemirror_mode": {
        "name": "ipython",
        "version": 3
      },
      "file_extension": ".py",
      "mimetype": "text/x-python",
      "name": "python",
      "nbconvert_exporter": "python",
      "pygments_lexer": "ipython3",
      "version": "3.6.8"
    },
    "colab": {
      "provenance": [],
      "include_colab_link": true
    }
  },
  "nbformat": 4,
  "nbformat_minor": 0
}