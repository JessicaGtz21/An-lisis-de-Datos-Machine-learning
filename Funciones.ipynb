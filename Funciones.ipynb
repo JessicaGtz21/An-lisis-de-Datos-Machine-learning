{
  "nbformat": 4,
  "nbformat_minor": 0,
  "metadata": {
    "colab": {
      "provenance": [],
      "authorship_tag": "ABX9TyOMy0VMx6S4Gdorb3Fwa1v7",
      "include_colab_link": true
    },
    "kernelspec": {
      "name": "python3",
      "display_name": "Python 3"
    },
    "language_info": {
      "name": "python"
    }
  },
  "cells": [
    {
      "cell_type": "markdown",
      "metadata": {
        "id": "view-in-github",
        "colab_type": "text"
      },
      "source": [
        "<a href=\"https://colab.research.google.com/github/JessicaGtz21/regresi-n-lineal-homicidios-/blob/main/Funciones.ipynb\" target=\"_parent\"><img src=\"https://colab.research.google.com/assets/colab-badge.svg\" alt=\"Open In Colab\"/></a>"
      ]
    },
    {
      "cell_type": "code",
      "execution_count": 1,
      "metadata": {
        "id": "Zk2Rqds97TqW"
      },
      "outputs": [],
      "source": [
        "import numpy as np\n",
        "import matplotlib.pyplot as plt \n",
        "import numpy as np"
      ]
    },
    {
      "cell_type": "code",
      "source": [
        "def binaryStep (x):\n",
        "  ''' It returns '''\n",
        "  return np.heaviside(x,1 )\n",
        "\n",
        "x= np.linspace(-10, 10)\n",
        "plt.plot(x,binaryStep(x))\n",
        "plt.axis('tight')\n",
        "plt.title('Function')\n",
        "plt.show"
      ],
      "metadata": {
        "colab": {
          "base_uri": "https://localhost:8080/",
          "height": 298
        },
        "id": "3-pWBobW7ha_",
        "outputId": "68b33d2f-9d2a-4d75-d2fd-ac02406ac1be"
      },
      "execution_count": 4,
      "outputs": [
        {
          "output_type": "execute_result",
          "data": {
            "text/plain": [
              "<function matplotlib.pyplot.show(*args, **kw)>"
            ]
          },
          "metadata": {},
          "execution_count": 4
        },
        {
          "output_type": "display_data",
          "data": {
            "text/plain": [
              "<Figure size 432x288 with 1 Axes>"
            ],
            "image/png": "[encoded data removed]"
          },
          "metadata": {
            "needs_background": "light"
          }
        }
      ]
    },
    {
      "cell_type": "markdown",
      "source": [],
      "metadata": {
        "id": "fwQJKwRnA6We"
      }
    },
    {
      "cell_type": "code",
      "source": [
        "def linearStep (x):\n",
        "  ''' It returns '''\n",
        "  return 6*x+3\n",
        "\n",
        "x= np.linspace(-10, 10)\n",
        "plt.plot(x,linearStep(x))\n",
        "plt.axis('tight')\n",
        "plt.title('Lineal')\n",
        "plt.show"
      ],
      "metadata": {
        "colab": {
          "base_uri": "https://localhost:8080/",
          "height": 298
        },
        "id": "fRc_2ZF0-iBw",
        "outputId": "ebd55513-c048-40f4-8ac1-993699debcd2"
      },
      "execution_count": 19,
      "outputs": [
        {
          "output_type": "execute_result",
          "data": {
            "text/plain": [
              "<function matplotlib.pyplot.show(*args, **kw)>"
            ]
          },
          "metadata": {},
          "execution_count": 19
        },
        {
          "output_type": "display_data",
          "data": {
            "text/plain": [
              "<Figure size 432x288 with 1 Axes>"
            ],
            "image/png": "[encoded data removed]"
          },
          "metadata": {
            "needs_background": "light"
          }
        }
      ]
    },
    {
      "cell_type": "code",
      "source": [
        "def sigmoidStep(x):\n",
        "  ''' It returns '''\n",
        "  return 1/(1+np.exp(-x))\n",
        "\n",
        "x = np.linspace(-10, 10)\n",
        "plt.plot(x, sigmoidStep(x))\n",
        "plt.axis('tight')\n",
        "plt.title('sigmoide')\n",
        "plt.show()\n"
      ],
      "metadata": {
        "colab": {
          "base_uri": "https://localhost:8080/",
          "height": 281
        },
        "id": "fyIqsKWLB_S3",
        "outputId": "90c7ec99-bf6e-4df7-8799-0a0d4bdc75c6"
      },
      "execution_count": 27,
      "outputs": [
        {
          "output_type": "display_data",
          "data": {
            "text/plain": [
              "<Figure size 432x288 with 1 Axes>"
            ],
            "image/png": "[encoded data removed]"
          },
          "metadata": {
            "needs_background": "light"
          }
        }
      ]
    },
    {
      "cell_type": "code",
      "source": [
        "#¿En dónde utilizamos recursividad en phyton ?\n",
        "#¿En dónde utilizamos interaciones en phyton?"
      ],
      "metadata": {
        "id": "tf1WNIg2D1wv"
      },
      "execution_count": 28,
      "outputs": []
    },
    {
      "cell_type": "code",
      "source": [
        "#Ejemplo : 1 \n",
        "c = 0\n",
        "while c<= 5:\n",
        "  c = c + 1\n",
        "  print(\"c value\", c ) "
      ],
      "metadata": {
        "colab": {
          "base_uri": "https://localhost:8080/"
        },
        "id": "yiKXhSJ8EHzH",
        "outputId": "68daac9e-a305-4d8a-d285-7eaae0a69020"
      },
      "execution_count": 29,
      "outputs": [
        {
          "output_type": "stream",
          "name": "stdout",
          "text": [
            "c value 1\n",
            "c value 2\n",
            "c value 3\n",
            "c value 4\n",
            "c value 5\n",
            "c value 6\n"
          ]
        }
      ]
    },
    {
      "cell_type": "code",
      "source": [
        "numeros = [1,2,3,4,5,6,7,8,9,10]\n",
        "for numero in numeros :\n",
        "  numero = numero*3\n",
        "  numeros"
      ],
      "metadata": {
        "id": "QUyzbA7KEa5P"
      },
      "execution_count": 39,
      "outputs": []
    },
    {
      "cell_type": "code",
      "source": [
        "#Ejemplo :2 , Implementar Fibonacci\n",
        "def fibonacci_recursivo(n) :\n",
        "  if n == 0:\n",
        "    return 0\n",
        "  elif n == 1:\n",
        "    return 1\n",
        "  else:\n",
        "    return fibonacci_recursivo(n-1)+fibonacci_recursivo(n-2)"
      ],
      "metadata": {
        "id": "kPJjijVlE7iQ"
      },
      "execution_count": 46,
      "outputs": []
    },
    {
      "cell_type": "code",
      "source": [
        "#Ejercicio : mostrar los valores de fibonacci (sólo el número 9 )"
      ],
      "metadata": {
        "id": "HtPZTMtaGq-O"
      },
      "execution_count": null,
      "outputs": []
    },
    {
      "cell_type": "code",
      "source": [
        "fibonacci_recursivo(9)"
      ],
      "metadata": {
        "colab": {
          "base_uri": "https://localhost:8080/"
        },
        "id": "8JlT_VRrIaam",
        "outputId": "e144e6ef-ba9a-4fd2-e8f2-693144fa8aac"
      },
      "execution_count": 47,
      "outputs": [
        {
          "output_type": "execute_result",
          "data": {
            "text/plain": [
              "34"
            ]
          },
          "metadata": {},
          "execution_count": 47
        }
      ]
    },
    {
      "cell_type": "code",
      "source": [
        "#Ejercicio 3 : Gradiente descendente aplicada a la función y = X elevado a la 2 +8\n",
        "#Primero debemos iniciarlo con un valor x elegido aleatoriamente \n",
        "#Ademas debemos especificar el número de iteraciones y la tasa de aprendizaje \n",
        "from random import randint\n",
        "x_inicial = 5 #Este valor se da aleatoriamente por parte del algoritmo \n",
        "alpha =0.3 #tasa de aprendizaje \n",
        "n_iteraciones =  15 #15iteraciones\n",
        "#Generamos dos listas que permitiran almacenar el número de la iteracion \n",
        "#así como el valor de la función durante la ejecución\n",
        "iteraciones = []\n",
        "y = []\n",
        "\n",
        "x =x_inicial\n",
        "for i in range(n_iteraciones):\n",
        "  print('----------------')\n",
        "  print('iteración',str(i+1))\n",
        "  #calcular gradiente \n",
        "  gradiente= 2*x\n",
        "\n",
        "  #actualizar \"x\" utilizando gradiente descedente \n",
        "  x= x - alpha*gradiente\n",
        "\n",
        "#almacenar iteración y valor correspondiente \n",
        "  y.append(x**2 + 1)\n",
        "  iteraciones.append(i+1)\n",
        "\n",
        "  print('x=',str(x), 'y = ', str(x**2+1))"
      ],
      "metadata": {
        "colab": {
          "base_uri": "https://localhost:8080/"
        },
        "id": "vOb4MvaqIype",
        "outputId": "3ee39be6-c08e-44a7-f127-574bb31d666c"
      },
      "execution_count": 52,
      "outputs": [
        {
          "output_type": "stream",
          "name": "stdout",
          "text": [
            "----------------\n",
            "iteración 1\n",
            "x= 2.0 y =  5.0\n",
            "----------------\n",
            "iteración 2\n",
            "x= 0.8 y =  1.6400000000000001\n",
            "----------------\n",
            "iteración 3\n",
            "x= 0.32000000000000006 y =  1.1024\n",
            "----------------\n",
            "iteración 4\n",
            "x= 0.12800000000000003 y =  1.016384\n",
            "----------------\n",
            "iteración 5\n",
            "x= 0.05120000000000001 y =  1.00262144\n",
            "----------------\n",
            "iteración 6\n",
            "x= 0.020480000000000005 y =  1.0004194304\n",
            "----------------\n",
            "iteración 7\n",
            "x= 0.008192000000000003 y =  1.000067108864\n",
            "----------------\n",
            "iteración 8\n",
            "x= 0.0032768000000000016 y =  1.00001073741824\n",
            "----------------\n",
            "iteración 9\n",
            "x= 0.001310720000000001 y =  1.0000017179869185\n",
            "----------------\n",
            "iteración 10\n",
            "x= 0.0005242880000000004 y =  1.0000002748779069\n",
            "----------------\n",
            "iteración 11\n",
            "x= 0.00020971520000000014 y =  1.000000043980465\n",
            "----------------\n",
            "iteración 12\n",
            "x= 8.388608000000006e-05 y =  1.0000000070368744\n",
            "----------------\n",
            "iteración 13\n",
            "x= 3.3554432000000026e-05 y =  1.0000000011258998\n",
            "----------------\n",
            "iteración 14\n",
            "x= 1.342177280000001e-05 y =  1.000000000180144\n",
            "----------------\n",
            "iteración 15\n",
            "x= 5.368709120000004e-06 y =  1.000000000028823\n"
          ]
        }
      ]
    }
  ]
}