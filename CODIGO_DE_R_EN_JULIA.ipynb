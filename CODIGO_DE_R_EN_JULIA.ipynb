{
  "nbformat": 4,
  "nbformat_minor": 0,
  "metadata": {
    "colab": {
      "provenance": [],
      "include_colab_link": true
    },
    "kernelspec": {
      "display_name": "Julia",
      "language": "julia",
      "name": "julia"
    },
    "language_info": {
      "file_extension": ".jl",
      "mimetype": "application/julia",
      "name": "julia"
    },
    "gpuClass": "standard"
  },
  "cells": [
    {
      "cell_type": "markdown",
      "metadata": {
        "id": "view-in-github",
        "colab_type": "text"
      },
      "source": [
        "<a href=\"https://colab.research.google.com/github/JessicaGtz21/regresi-n-lineal-homicidios-/blob/main/CODIGO_DE_R_EN_JULIA.ipynb\" target=\"_parent\"><img src=\"https://colab.research.google.com/assets/colab-badge.svg\" alt=\"Open In Colab\"/></a>"
      ]
    },
    {
      "cell_type": "markdown",
      "metadata": {
        "id": "tQ1r1bbb0yBv"
      },
      "source": [
        "# <img src=\"https://github.com/JuliaLang/julia-logo-graphics/raw/master/images/julia-logo-color.png\" height=\"100\" /> _Colab Notebook Template_\n",
        "\n",
        "## Instructions\n",
        "1. Work on a copy of this notebook: _File_ > _Save a copy in Drive_ (you will need a Google account). Alternatively, you can download the notebook using _File_ > _Download .ipynb_, then upload it to [Colab](https://colab.research.google.com/).\n",
        "2. If you need a GPU: _Runtime_ > _Change runtime type_ > _Harware accelerator_ = _GPU_.\n",
        "3. Execute the following cell (click on it and press Ctrl+Enter) to install Julia, IJulia and other packages (if needed, update `JULIA_VERSION` and the other parameters). This takes a couple of minutes.\n",
        "4. Reload this page (press Ctrl+R, or ⌘+R, or the F5 key) and continue to the next section.\n",
        "\n",
        "_Notes_:\n",
        "* If your Colab Runtime gets reset (e.g., due to inactivity), repeat steps 2, 3 and 4.\n",
        "* After installation, if you want to change the Julia version or activate/deactivate the GPU, you will need to reset the Runtime: _Runtime_ > _Factory reset runtime_ and repeat steps 3 and 4."
      ]
    },
    {
      "cell_type": "code",
      "metadata": {
        "id": "GIeFXS0F0zww",
        "colab": {
          "base_uri": "https://localhost:8080/"
        },
        "outputId": "0cee816d-ad80-4051-8520-d358eae20583"
      },
      "source": [
        "%%shell\n",
        "set -e\n",
        "\n",
        "#---------------------------------------------------#\n",
        "JULIA_VERSION=\"1.8.2\" # any version ≥ 0.7.0\n",
        "JULIA_PACKAGES=\"IJulia BenchmarkTools\"\n",
        "JULIA_PACKAGES_IF_GPU=\"CUDA\" # or CuArrays for older Julia versions\n",
        "JULIA_NUM_THREADS=2\n",
        "#---------------------------------------------------#\n",
        "\n",
        "if [ -z `which julia` ]; then\n",
        "  # Install Julia\n",
        "  JULIA_VER=`cut -d '.' -f -2 <<< \"$JULIA_VERSION\"`\n",
        "  echo \"Installing Julia $JULIA_VERSION on the current Colab Runtime...\"\n",
        "  BASE_URL=\"https://julialang-s3.julialang.org/bin/linux/x64\"\n",
        "  URL=\"$BASE_URL/$JULIA_VER/julia-$JULIA_VERSION-linux-x86_64.tar.gz\"\n",
        "  wget -nv $URL -O /tmp/julia.tar.gz # -nv means \"not verbose\"\n",
        "  tar -x -f /tmp/julia.tar.gz -C /usr/local --strip-components 1\n",
        "  rm /tmp/julia.tar.gz\n",
        "\n",
        "  # Install Packages\n",
        "  nvidia-smi -L &> /dev/null && export GPU=1 || export GPU=0\n",
        "  if [ $GPU -eq 1 ]; then\n",
        "    JULIA_PACKAGES=\"$JULIA_PACKAGES $JULIA_PACKAGES_IF_GPU\"\n",
        "  fi\n",
        "  for PKG in `echo $JULIA_PACKAGES`; do\n",
        "    echo \"Installing Julia package $PKG...\"\n",
        "    julia -e 'using Pkg; pkg\"add '$PKG'; precompile;\"' &> /dev/null\n",
        "  done\n",
        "\n",
        "  # Install kernel and rename it to \"julia\"\n",
        "  echo \"Installing IJulia kernel...\"\n",
        "  julia -e 'using IJulia; IJulia.installkernel(\"julia\", env=Dict(\n",
        "      \"JULIA_NUM_THREADS\"=>\"'\"$JULIA_NUM_THREADS\"'\"))'\n",
        "  KERNEL_DIR=`julia -e \"using IJulia; print(IJulia.kerneldir())\"`\n",
        "  KERNEL_NAME=`ls -d \"$KERNEL_DIR\"/julia*`\n",
        "  mv -f $KERNEL_NAME \"$KERNEL_DIR\"/julia\n",
        "\n",
        "  echo ''\n",
        "  echo \"Successfully installed `julia -v`!\"\n",
        "  echo \"Please reload this page (press Ctrl+R, ⌘+R, or the F5 key) then\"\n",
        "  echo \"jump to the 'Checking the Installation' section.\"\n",
        "fi"
      ],
      "execution_count": null,
      "outputs": [
        {
          "output_type": "stream",
          "name": "stdout",
          "text": [
            "Installing Julia 1.8.2 on the current Colab Runtime...\n",
            "2023-11-13 15:58:26 URL:https://storage.googleapis.com/julialang2/bin/linux/x64/1.8/julia-1.8.2-linux-x86_64.tar.gz [135859273/135859273] -> \"/tmp/julia.tar.gz\" [1]\n",
            "Installing Julia package IJulia...\n",
            "Installing Julia package BenchmarkTools...\n",
            "Installing IJulia kernel...\n"
          ]
        }
      ]
    },
    {
      "cell_type": "markdown",
      "metadata": {
        "id": "-OS3Ac017T1i"
      },
      "source": [
        "# Checking the Installation\n",
        "The `versioninfo()` function should print your Julia version and some other info about the system:"
      ]
    },
    {
      "cell_type": "code",
      "metadata": {
        "id": "EEzvvzCl1i0F",
        "colab": {
          "base_uri": "https://localhost:8080/"
        },
        "outputId": "83a584d9-0c0c-4504-e9d9-407cafa2b9d2"
      },
      "source": [
        "versioninfo()"
      ],
      "execution_count": null,
      "outputs": [
        {
          "output_type": "stream",
          "name": "stdout",
          "text": [
            "Julia Version 1.8.2\n",
            "Commit 36034abf260 (2022-09-29 15:21 UTC)\n",
            "Platform Info:\n",
            "  OS: Linux (x86_64-linux-gnu)\n",
            "  CPU: 2 × Intel(R) Xeon(R) CPU @ 2.20GHz\n",
            "  WORD_SIZE: 64\n",
            "  LIBM: libopenlibm\n",
            "  LLVM: libLLVM-13.0.1 (ORCJIT, broadwell)\n",
            "  Threads: 2 on 2 virtual cores\n",
            "Environment:\n",
            "  LD_LIBRARY_PATH = /usr/local/nvidia/lib:/usr/local/nvidia/lib64\n",
            "  JULIA_NUM_THREADS = 2\n"
          ]
        }
      ]
    },
    {
      "cell_type": "code",
      "source": [
        "using BenchmarkTools\n",
        "\n",
        "M = rand(2^11, 2^11)\n",
        "\n",
        "@btime $M * $M;"
      ],
      "metadata": {
        "colab": {
          "base_uri": "https://localhost:8080/"
        },
        "id": "YjM_qq54lCcs",
        "outputId": "ca4dae7a-2ce8-4283-b974-4823904d2dc2"
      },
      "execution_count": null,
      "outputs": [
        {
          "output_type": "stream",
          "name": "stdout",
          "text": [
            "  554.757 ms (2 allocations: 32.00 MiB)\n"
          ]
        }
      ]
    },
    {
      "cell_type": "code",
      "metadata": {
        "id": "XciCcMAJOT3_",
        "colab": {
          "base_uri": "https://localhost:8080/"
        },
        "outputId": "84411a89-27ff-4fc2-abc2-09f6b85b83ec"
      },
      "source": [
        "try\n",
        "    using CUDA\n",
        "catch\n",
        "    println(\"No GPU found.\")\n",
        "else\n",
        "    run(`nvidia-smi`)\n",
        "    # Create a new random matrix directly on the GPU:\n",
        "    M_on_gpu = CUDA.CURAND.rand(2^11, 2^11)\n",
        "    @btime $M_on_gpu * $M_on_gpu; nothing\n",
        "end"
      ],
      "execution_count": null,
      "outputs": [
        {
          "output_type": "stream",
          "name": "stdout",
          "text": [
            "No GPU found.\n"
          ]
        }
      ]
    },
    {
      "cell_type": "markdown",
      "metadata": {
        "id": "2UMidUQB03vJ"
      },
      "source": [
        "Add new code cells by clicking the `+ Code` button (or _Insert_ > _Code cell_).\n",
        "\n",
        "Have fun!\n",
        "\n",
        "<img src=\"https://raw.githubusercontent.com/JuliaLang/julia-logo-graphics/master/images/julia-logo-mask.png\" height=\"100\" />"
      ]
    },
    {
      "cell_type": "markdown",
      "metadata": {
        "id": "8RC1QNNqk6h1"
      },
      "source": [
        "# Need Help?\n",
        "\n",
        "* Learning: https://julialang.org/learning/\n",
        "* Documentation: https://docs.julialang.org/\n",
        "* Questions & Discussions:\n",
        "  * https://discourse.julialang.org/\n",
        "  * http://julialang.slack.com/\n",
        "  * https://stackoverflow.com/questions/tagged/julia\n",
        "\n",
        "If you ever ask for help or file an issue about Julia, you should generally provide the output of `versioninfo()`."
      ]
    },
    {
      "cell_type": "code",
      "source": [
        "] add Plots PyPlot GR UnicodePlots\n"
      ],
      "metadata": {
        "id": "kSAmAOMnRpkS",
        "colab": {
          "base_uri": "https://localhost:8080/"
        },
        "outputId": "cc7f51dc-b126-457e-932b-9807a5bf8d12"
      },
      "execution_count": null,
      "outputs": [
        {
          "output_type": "stream",
          "name": "stderr",
          "text": [
            "\u001b[32m\u001b[1m    Updating\u001b[22m\u001b[39m registry at `~/.julia/registries/General.toml`\n",
            "\u001b[32m\u001b[1m   Resolving\u001b[22m\u001b[39m package versions...\n",
            "\u001b[32m\u001b[1m   Installed\u001b[22m\u001b[39m JpegTurbo_jll ──────────────── v2.1.91+0\n",
            "\u001b[32m\u001b[1m   Installed\u001b[22m\u001b[39m libfdk_aac_jll ─────────────── v2.0.2+0\n",
            "\u001b[32m\u001b[1m   Installed\u001b[22m\u001b[39m LERC_jll ───────────────────── v3.0.0+1\n",
            "\u001b[32m\u001b[1m   Installed\u001b[22m\u001b[39m x265_jll ───────────────────── v3.5.0+0\n",
            "\u001b[32m\u001b[1m   Installed\u001b[22m\u001b[39m Libmount_jll ───────────────── v2.35.0+0\n",
            "\u001b[32m\u001b[1m   Installed\u001b[22m\u001b[39m GR_jll ─────────────────────── v0.72.10+0\n",
            "\u001b[32m\u001b[1m   Installed\u001b[22m\u001b[39m LoggingExtras ──────────────── v1.0.3\n",
            "\u001b[32m\u001b[1m   Installed\u001b[22m\u001b[39m Xorg_xkbcomp_jll ───────────── v1.4.6+0\n",
            "\u001b[32m\u001b[1m   Installed\u001b[22m\u001b[39m RelocatableFolders ─────────── v1.0.1\n",
            "\u001b[32m\u001b[1m   Installed\u001b[22m\u001b[39m Opus_jll ───────────────────── v1.3.2+0\n",
            "\u001b[32m\u001b[1m   Installed\u001b[22m\u001b[39m Contour ────────────────────── v0.6.2\n",
            "\u001b[32m\u001b[1m   Installed\u001b[22m\u001b[39m MarchingCubes ──────────────── v0.1.8\n",
            "\u001b[32m\u001b[1m   Installed\u001b[22m\u001b[39m Unitful ────────────────────── v1.18.0\n",
            "\u001b[32m\u001b[1m   Installed\u001b[22m\u001b[39m Measures ───────────────────── v0.3.2\n",
            "\u001b[32m\u001b[1m   Installed\u001b[22m\u001b[39m ConcurrentUtilities ────────── v2.3.0\n",
            "\u001b[32m\u001b[1m   Installed\u001b[22m\u001b[39m Xorg_xcb_util_wm_jll ───────── v0.4.1+1\n",
            "\u001b[32m\u001b[1m   Installed\u001b[22m\u001b[39m StaticArrays ───────────────── v1.6.5\n",
            "\u001b[32m\u001b[1m   Installed\u001b[22m\u001b[39m Xorg_xcb_util_image_jll ────── v0.4.0+1\n",
            "\u001b[32m\u001b[1m   Installed\u001b[22m\u001b[39m PlotUtils ──────────────────── v1.3.5\n",
            "\u001b[32m\u001b[1m   Installed\u001b[22m\u001b[39m RecipesPipeline ────────────── v0.6.12\n",
            "\u001b[32m\u001b[1m   Installed\u001b[22m\u001b[39m Formatting ─────────────────── v0.4.2\n",
            "\u001b[32m\u001b[1m   Installed\u001b[22m\u001b[39m Grisu ──────────────────────── v1.0.2\n",
            "\u001b[32m\u001b[1m   Installed\u001b[22m\u001b[39m Xorg_libpthread_stubs_jll ──── v0.1.1+0\n",
            "\u001b[32m\u001b[1m   Installed\u001b[22m\u001b[39m OpenSSL ────────────────────── v1.4.1\n",
            "\u001b[32m\u001b[1m   Installed\u001b[22m\u001b[39m Cairo_jll ──────────────────── v1.16.1+1\n",
            "\u001b[32m\u001b[1m   Installed\u001b[22m\u001b[39m Xorg_libSM_jll ─────────────── v1.2.3+0\n",
            "\u001b[32m\u001b[1m   Installed\u001b[22m\u001b[39m Fontconfig_jll ─────────────── v2.13.93+0\n",
            "\u001b[32m\u001b[1m   Installed\u001b[22m\u001b[39m Libgpg_error_jll ───────────── v1.42.0+0\n",
            "\u001b[32m\u001b[1m   Installed\u001b[22m\u001b[39m HTTP ───────────────────────── v1.10.0\n",
            "\u001b[32m\u001b[1m   Installed\u001b[22m\u001b[39m Xorg_xcb_util_jll ──────────── v0.4.0+1\n",
            "\u001b[32m\u001b[1m   Installed\u001b[22m\u001b[39m Xorg_libxkbfile_jll ────────── v1.1.2+0\n",
            "\u001b[32m\u001b[1m   Installed\u001b[22m\u001b[39m Xorg_libXau_jll ────────────── v1.0.11+0\n",
            "\u001b[32m\u001b[1m   Installed\u001b[22m\u001b[39m Xorg_libXinerama_jll ───────── v1.1.4+4\n",
            "\u001b[32m\u001b[1m   Installed\u001b[22m\u001b[39m EpollShim_jll ──────────────── v0.0.20230411+0\n",
            "\u001b[32m\u001b[1m   Installed\u001b[22m\u001b[39m Missings ───────────────────── v1.1.0\n",
            "\u001b[32m\u001b[1m   Installed\u001b[22m\u001b[39m FFMPEG ─────────────────────── v0.4.1\n",
            "\u001b[32m\u001b[1m   Installed\u001b[22m\u001b[39m IrrationalConstants ────────── v0.2.2\n",
            "\u001b[32m\u001b[1m   Installed\u001b[22m\u001b[39m Showoff ────────────────────── v1.0.3\n",
            "\u001b[32m\u001b[1m   Installed\u001b[22m\u001b[39m Xorg_xcb_util_keysyms_jll ──── v0.4.0+1\n",
            "\u001b[32m\u001b[1m   Installed\u001b[22m\u001b[39m xkbcommon_jll ──────────────── v1.4.1+1\n",
            "\u001b[32m\u001b[1m   Installed\u001b[22m\u001b[39m Pipe ───────────────────────── v1.3.0\n",
            "\u001b[32m\u001b[1m   Installed\u001b[22m\u001b[39m SimpleBufferStream ─────────── v1.1.0\n",
            "\u001b[32m\u001b[1m   Installed\u001b[22m\u001b[39m XZ_jll ─────────────────────── v5.4.5+0\n",
            "\u001b[32m\u001b[1m   Installed\u001b[22m\u001b[39m HarfBuzz_jll ───────────────── v2.8.1+1\n",
            "\u001b[32m\u001b[1m   Installed\u001b[22m\u001b[39m Bzip2_jll ──────────────────── v1.0.8+0\n",
            "\u001b[32m\u001b[1m   Installed\u001b[22m\u001b[39m UnicodePlots ───────────────── v3.6.0\n",
            "\u001b[32m\u001b[1m   Installed\u001b[22m\u001b[39m PlotThemes ─────────────────── v3.1.0\n",
            "\u001b[32m\u001b[1m   Installed\u001b[22m\u001b[39m StaticArraysCore ───────────── v1.4.2\n",
            "\u001b[32m\u001b[1m   Installed\u001b[22m\u001b[39m LZO_jll ────────────────────── v2.10.1+0\n",
            "\u001b[32m\u001b[1m   Installed\u001b[22m\u001b[39m PyPlot ─────────────────────── v2.11.2\n",
            "\u001b[32m\u001b[1m   Installed\u001b[22m\u001b[39m NaNMath ────────────────────── v1.0.2\n",
            "\u001b[32m\u001b[1m   Installed\u001b[22m\u001b[39m fzf_jll ────────────────────── v0.35.1+0\n",
            "\u001b[32m\u001b[1m   Installed\u001b[22m\u001b[39m TranscodingStreams ─────────── v0.10.2\n",
            "\u001b[32m\u001b[1m   Installed\u001b[22m\u001b[39m FriBidi_jll ────────────────── v1.0.10+0\n",
            "\u001b[32m\u001b[1m   Installed\u001b[22m\u001b[39m UnicodeFun ─────────────────── v0.4.1\n",
            "\u001b[32m\u001b[1m   Installed\u001b[22m\u001b[39m x264_jll ───────────────────── v2021.5.5+0\n",
            "\u001b[32m\u001b[1m   Installed\u001b[22m\u001b[39m ColorSchemes ───────────────── v3.24.0\n",
            "\u001b[32m\u001b[1m   Installed\u001b[22m\u001b[39m GLFW_jll ───────────────────── v3.3.8+0\n",
            "\u001b[32m\u001b[1m   Installed\u001b[22m\u001b[39m FreeType2_jll ──────────────── v2.13.1+0\n",
            "\u001b[32m\u001b[1m   Installed\u001b[22m\u001b[39m JLFzf ──────────────────────── v0.1.6\n",
            "\u001b[32m\u001b[1m   Installed\u001b[22m\u001b[39m StatsAPI ───────────────────── v1.7.0\n",
            "\u001b[32m\u001b[1m   Installed\u001b[22m\u001b[39m Colors ─────────────────────── v0.12.10\n",
            "\u001b[32m\u001b[1m   Installed\u001b[22m\u001b[39m DataStructures ─────────────── v0.18.15\n",
            "\u001b[32m\u001b[1m   Installed\u001b[22m\u001b[39m CodecZlib ──────────────────── v0.7.3\n",
            "\u001b[32m\u001b[1m   Installed\u001b[22m\u001b[39m libpng_jll ─────────────────── v1.6.38+0\n",
            "\u001b[32m\u001b[1m   Installed\u001b[22m\u001b[39m Xorg_libxcb_jll ────────────── v1.15.0+0\n",
            "\u001b[32m\u001b[1m   Installed\u001b[22m\u001b[39m mtdev_jll ──────────────────── v1.1.6+0\n",
            "\u001b[32m\u001b[1m   Installed\u001b[22m\u001b[39m Compat ─────────────────────── v4.10.0\n",
            "\u001b[32m\u001b[1m   Installed\u001b[22m\u001b[39m StatsBase ──────────────────── v0.34.2\n",
            "\u001b[32m\u001b[1m   Installed\u001b[22m\u001b[39m ExceptionUnwrapping ────────── v0.1.9\n",
            "\u001b[32m\u001b[1m   Installed\u001b[22m\u001b[39m libaom_jll ─────────────────── v3.4.0+0\n",
            "\u001b[32m\u001b[1m   Installed\u001b[22m\u001b[39m Scratch ────────────────────── v1.2.1\n",
            "\u001b[32m\u001b[1m   Installed\u001b[22m\u001b[39m gperf_jll ──────────────────── v3.1.1+0\n",
            "\u001b[32m\u001b[1m   Installed\u001b[22m\u001b[39m Xorg_libXext_jll ───────────── v1.3.4+4\n",
            "\u001b[32m\u001b[1m   Installed\u001b[22m\u001b[39m eudev_jll ──────────────────── v3.2.9+0\n",
            "\u001b[32m\u001b[1m   Installed\u001b[22m\u001b[39m TensorCore ─────────────────── v0.1.1\n",
            "\u001b[32m\u001b[1m   Installed\u001b[22m\u001b[39m Zstd_jll ───────────────────── v1.5.5+0\n",
            "\u001b[32m\u001b[1m   Installed\u001b[22m\u001b[39m ColorTypes ─────────────────── v0.11.4\n",
            "\u001b[32m\u001b[1m   Installed\u001b[22m\u001b[39m Xorg_xcb_util_cursor_jll ───── v0.1.4+0\n",
            "\u001b[32m\u001b[1m   Installed\u001b[22m\u001b[39m Libtiff_jll ────────────────── v4.5.1+1\n",
            "\u001b[32m\u001b[1m   Installed\u001b[22m\u001b[39m ConstructionBase ───────────── v1.5.4\n",
            "\u001b[32m\u001b[1m   Installed\u001b[22m\u001b[39m GR ─────────────────────────── v0.72.10\n",
            "\u001b[32m\u001b[1m   Installed\u001b[22m\u001b[39m PyCall ─────────────────────── v1.96.2\n",
            "\u001b[32m\u001b[1m   Installed\u001b[22m\u001b[39m ColorVectorSpace ───────────── v0.10.0\n",
            "\u001b[32m\u001b[1m   Installed\u001b[22m\u001b[39m Plots ──────────────────────── v1.39.0\n",
            "\u001b[32m\u001b[1m   Installed\u001b[22m\u001b[39m Libffi_jll ─────────────────── v3.2.2+1\n",
            "\u001b[32m\u001b[1m   Installed\u001b[22m\u001b[39m Expat_jll ──────────────────── v2.5.0+0\n",
            "\u001b[32m\u001b[1m   Installed\u001b[22m\u001b[39m Xorg_libXrender_jll ────────── v0.9.10+4\n",
            "\u001b[32m\u001b[1m   Installed\u001b[22m\u001b[39m Ogg_jll ────────────────────── v1.3.5+1\n",
            "\u001b[32m\u001b[1m   Installed\u001b[22m\u001b[39m libevdev_jll ───────────────── v1.11.0+0\n",
            "\u001b[32m\u001b[1m   Installed\u001b[22m\u001b[39m OrderedCollections ─────────── v1.6.2\n",
            "\u001b[32m\u001b[1m   Installed\u001b[22m\u001b[39m libinput_jll ───────────────── v1.18.0+0\n",
            "\u001b[32m\u001b[1m   Installed\u001b[22m\u001b[39m Xorg_libXi_jll ─────────────── v1.7.10+4\n",
            "\u001b[32m\u001b[1m   Installed\u001b[22m\u001b[39m XSLT_jll ───────────────────── v1.1.34+0\n",
            "\u001b[32m\u001b[1m   Installed\u001b[22m\u001b[39m Reexport ───────────────────── v1.2.2\n",
            "\u001b[32m\u001b[1m   Installed\u001b[22m\u001b[39m Vulkan_Loader_jll ──────────── v1.3.243+0\n",
            "\u001b[32m\u001b[1m   Installed\u001b[22m\u001b[39m LogExpFunctions ────────────── v0.3.26\n",
            "\u001b[32m\u001b[1m   Installed\u001b[22m\u001b[39m Xorg_libXcursor_jll ────────── v1.2.0+4\n",
            "\u001b[32m\u001b[1m   Installed\u001b[22m\u001b[39m InverseFunctions ───────────── v0.1.12\n",
            "\u001b[32m\u001b[1m   Installed\u001b[22m\u001b[39m Libuuid_jll ────────────────── v2.36.0+0\n",
            "\u001b[32m\u001b[1m   Installed\u001b[22m\u001b[39m Wayland_protocols_jll ──────── v1.25.0+0\n",
            "\u001b[32m\u001b[1m   Installed\u001b[22m\u001b[39m Xorg_xcb_util_renderutil_jll ─ v0.3.9+1\n",
            "\u001b[32m\u001b[1m   Installed\u001b[22m\u001b[39m MacroTools ─────────────────── v0.5.11\n",
            "\u001b[32m\u001b[1m   Installed\u001b[22m\u001b[39m ChainRulesCore ─────────────── v1.18.0\n",
            "\u001b[32m\u001b[1m   Installed\u001b[22m\u001b[39m Xorg_libICE_jll ────────────── v1.0.10+1\n",
            "\u001b[32m\u001b[1m   Installed\u001b[22m\u001b[39m Crayons ────────────────────── v4.1.1\n",
            "\u001b[32m\u001b[1m   Installed\u001b[22m\u001b[39m Graphite2_jll ──────────────── v1.3.14+0\n",
            "\u001b[32m\u001b[1m   Installed\u001b[22m\u001b[39m libass_jll ─────────────────── v0.15.1+0\n",
            "\u001b[32m\u001b[1m   Installed\u001b[22m\u001b[39m Pixman_jll ─────────────────── v0.42.2+0\n",
            "\u001b[32m\u001b[1m   Installed\u001b[22m\u001b[39m DocStringExtensions ────────── v0.9.3\n",
            "\u001b[32m\u001b[1m   Installed\u001b[22m\u001b[39m Gettext_jll ────────────────── v0.21.0+0\n",
            "\u001b[32m\u001b[1m   Installed\u001b[22m\u001b[39m Wayland_jll ────────────────── v1.21.0+1\n",
            "\u001b[32m\u001b[1m   Installed\u001b[22m\u001b[39m Xorg_xtrans_jll ────────────── v1.5.0+0\n",
            "\u001b[32m\u001b[1m   Installed\u001b[22m\u001b[39m BitFlags ───────────────────── v0.1.8\n",
            "\u001b[32m\u001b[1m   Installed\u001b[22m\u001b[39m FFMPEG_jll ─────────────────── v4.4.4+1\n",
            "\u001b[32m\u001b[1m   Installed\u001b[22m\u001b[39m XML2_jll ───────────────────── v2.11.5+0\n",
            "\u001b[32m\u001b[1m   Installed\u001b[22m\u001b[39m Libgcrypt_jll ──────────────── v1.8.7+0\n",
            "\u001b[32m\u001b[1m   Installed\u001b[22m\u001b[39m Xorg_xkeyboard_config_jll ──── v2.39.0+0\n",
            "\u001b[32m\u001b[1m   Installed\u001b[22m\u001b[39m Latexify ───────────────────── v0.16.1\n",
            "\u001b[32m\u001b[1m   Installed\u001b[22m\u001b[39m DataAPI ────────────────────── v1.15.0\n",
            "\u001b[32m\u001b[1m   Installed\u001b[22m\u001b[39m OpenSSL_jll ────────────────── v3.0.12+0\n",
            "\u001b[32m\u001b[1m   Installed\u001b[22m\u001b[39m FixedPointNumbers ──────────── v0.8.4\n",
            "\u001b[32m\u001b[1m   Installed\u001b[22m\u001b[39m Xorg_libXrandr_jll ─────────── v1.5.2+4\n",
            "\u001b[32m\u001b[1m   Installed\u001b[22m\u001b[39m RecipesBase ────────────────── v1.3.4\n",
            "\u001b[32m\u001b[1m   Installed\u001b[22m\u001b[39m Libiconv_jll ───────────────── v1.17.0+0\n",
            "\u001b[32m\u001b[1m   Installed\u001b[22m\u001b[39m Qt6Base_jll ────────────────── v6.5.3+1\n",
            "\u001b[32m\u001b[1m   Installed\u001b[22m\u001b[39m LAME_jll ───────────────────── v3.100.1+0\n",
            "\u001b[32m\u001b[1m   Installed\u001b[22m\u001b[39m LLVMOpenMP_jll ─────────────── v15.0.4+0\n",
            "\u001b[32m\u001b[1m   Installed\u001b[22m\u001b[39m LaTeXStrings ───────────────── v1.3.1\n",
            "\u001b[32m\u001b[1m   Installed\u001b[22m\u001b[39m Glib_jll ───────────────────── v2.76.5+0\n",
            "\u001b[32m\u001b[1m   Installed\u001b[22m\u001b[39m Xorg_libXfixes_jll ─────────── v5.0.3+4\n",
            "\u001b[32m\u001b[1m   Installed\u001b[22m\u001b[39m libvorbis_jll ──────────────── v1.3.7+1\n",
            "\u001b[32m\u001b[1m   Installed\u001b[22m\u001b[39m Libglvnd_jll ───────────────── v1.6.0+0\n",
            "\u001b[32m\u001b[1m   Installed\u001b[22m\u001b[39m Requires ───────────────────── v1.3.0\n",
            "\u001b[32m\u001b[1m   Installed\u001b[22m\u001b[39m Xorg_libXdmcp_jll ──────────── v1.1.4+0\n",
            "\u001b[32m\u001b[1m   Installed\u001b[22m\u001b[39m URIs ───────────────────────── v1.5.1\n",
            "\u001b[32m\u001b[1m   Installed\u001b[22m\u001b[39m Xorg_libX11_jll ────────────── v1.8.6+0\n",
            "\u001b[32m\u001b[1m   Installed\u001b[22m\u001b[39m ChangesOfVariables ─────────── v0.1.8\n",
            "\u001b[32m\u001b[1m   Installed\u001b[22m\u001b[39m Unzip ──────────────────────── v0.2.0\n",
            "\u001b[32m\u001b[1m   Installed\u001b[22m\u001b[39m SortingAlgorithms ──────────── v1.2.0\n",
            "\u001b[32m\u001b[1m   Installed\u001b[22m\u001b[39m UnitfulLatexify ────────────── v1.6.3\n",
            "\u001b[32m\u001b[1m    Updating\u001b[22m\u001b[39m `~/.julia/environments/v1.8/Project.toml`\n",
            " \u001b[90m [28b8d3ca] \u001b[39m\u001b[92m+ GR v0.72.10\u001b[39m\n",
            " \u001b[90m [91a5bcdd] \u001b[39m\u001b[92m+ Plots v1.39.0\u001b[39m\n",
            " \u001b[90m [d330b81b] \u001b[39m\u001b[92m+ PyPlot v2.11.2\u001b[39m\n",
            " \u001b[90m [b8865327] \u001b[39m\u001b[92m+ UnicodePlots v3.6.0\u001b[39m\n",
            "\u001b[32m\u001b[1m    Updating\u001b[22m\u001b[39m `~/.julia/environments/v1.8/Manifest.toml`\n",
            " \u001b[90m [d1d4a3ce] \u001b[39m\u001b[92m+ BitFlags v0.1.8\u001b[39m\n",
            " \u001b[90m [d360d2e6] \u001b[39m\u001b[92m+ ChainRulesCore v1.18.0\u001b[39m\n",
            " \u001b[90m [9e997f8a] \u001b[39m\u001b[92m+ ChangesOfVariables v0.1.8\u001b[39m\n",
            " \u001b[90m [944b1d66] \u001b[39m\u001b[92m+ CodecZlib v0.7.3\u001b[39m\n",
            " \u001b[90m [35d6a980] \u001b[39m\u001b[92m+ ColorSchemes v3.24.0\u001b[39m\n",
            " \u001b[90m [3da002f7] \u001b[39m\u001b[92m+ ColorTypes v0.11.4\u001b[39m\n",
            " \u001b[90m [c3611d14] \u001b[39m\u001b[92m+ ColorVectorSpace v0.10.0\u001b[39m\n",
            " \u001b[90m [5ae59095] \u001b[39m\u001b[92m+ Colors v0.12.10\u001b[39m\n",
            " \u001b[90m [34da2185] \u001b[39m\u001b[92m+ Compat v4.10.0\u001b[39m\n",
            " \u001b[90m [f0e56b4a] \u001b[39m\u001b[92m+ ConcurrentUtilities v2.3.0\u001b[39m\n",
            " \u001b[90m [187b0558] \u001b[39m\u001b[92m+ ConstructionBase v1.5.4\u001b[39m\n",
            " \u001b[90m [d38c429a] \u001b[39m\u001b[92m+ Contour v0.6.2\u001b[39m\n",
            " \u001b[90m [a8cc5b0e] \u001b[39m\u001b[92m+ Crayons v4.1.1\u001b[39m\n",
            " \u001b[90m [9a962f9c] \u001b[39m\u001b[92m+ DataAPI v1.15.0\u001b[39m\n",
            " \u001b[90m [864edb3b] \u001b[39m\u001b[92m+ DataStructures v0.18.15\u001b[39m\n",
            " \u001b[90m [ffbed154] \u001b[39m\u001b[92m+ DocStringExtensions v0.9.3\u001b[39m\n",
            " \u001b[90m [460bff9d] \u001b[39m\u001b[92m+ ExceptionUnwrapping v0.1.9\u001b[39m\n",
            " \u001b[90m [c87230d0] \u001b[39m\u001b[92m+ FFMPEG v0.4.1\u001b[39m\n",
            " \u001b[90m [53c48c17] \u001b[39m\u001b[92m+ FixedPointNumbers v0.8.4\u001b[39m\n",
            " \u001b[90m [59287772] \u001b[39m\u001b[92m+ Formatting v0.4.2\u001b[39m\n",
            " \u001b[90m [28b8d3ca] \u001b[39m\u001b[92m+ GR v0.72.10\u001b[39m\n",
            " \u001b[90m [42e2da0e] \u001b[39m\u001b[92m+ Grisu v1.0.2\u001b[39m\n",
            " \u001b[90m [cd3eb016] \u001b[39m\u001b[92m+ HTTP v1.10.0\u001b[39m\n",
            " \u001b[90m [3587e190] \u001b[39m\u001b[92m+ InverseFunctions v0.1.12\u001b[39m\n",
            " \u001b[90m [92d709cd] \u001b[39m\u001b[92m+ IrrationalConstants v0.2.2\u001b[39m\n",
            " \u001b[90m [1019f520] \u001b[39m\u001b[92m+ JLFzf v0.1.6\u001b[39m\n",
            " \u001b[90m [b964fa9f] \u001b[39m\u001b[92m+ LaTeXStrings v1.3.1\u001b[39m\n",
            " \u001b[90m [23fbe1c1] \u001b[39m\u001b[92m+ Latexify v0.16.1\u001b[39m\n",
            " \u001b[90m [2ab3a3ac] \u001b[39m\u001b[92m+ LogExpFunctions v0.3.26\u001b[39m\n",
            " \u001b[90m [e6f89c97] \u001b[39m\u001b[92m+ LoggingExtras v1.0.3\u001b[39m\n",
            " \u001b[90m [1914dd2f] \u001b[39m\u001b[92m+ MacroTools v0.5.11\u001b[39m\n",
            " \u001b[90m [299715c1] \u001b[39m\u001b[92m+ MarchingCubes v0.1.8\u001b[39m\n",
            " \u001b[90m [442fdcdd] \u001b[39m\u001b[92m+ Measures v0.3.2\u001b[39m\n",
            " \u001b[90m [e1d29d7a] \u001b[39m\u001b[92m+ Missings v1.1.0\u001b[39m\n",
            " \u001b[90m [77ba4419] \u001b[39m\u001b[92m+ NaNMath v1.0.2\u001b[39m\n",
            " \u001b[90m [4d8831e6] \u001b[39m\u001b[92m+ OpenSSL v1.4.1\u001b[39m\n",
            " \u001b[90m [bac558e1] \u001b[39m\u001b[92m+ OrderedCollections v1.6.2\u001b[39m\n",
            " \u001b[90m [b98c9c47] \u001b[39m\u001b[92m+ Pipe v1.3.0\u001b[39m\n",
            " \u001b[90m [ccf2f8ad] \u001b[39m\u001b[92m+ PlotThemes v3.1.0\u001b[39m\n",
            " \u001b[90m [995b91a9] \u001b[39m\u001b[92m+ PlotUtils v1.3.5\u001b[39m\n",
            " \u001b[90m [91a5bcdd] \u001b[39m\u001b[92m+ Plots v1.39.0\u001b[39m\n",
            " \u001b[90m [438e738f] \u001b[39m\u001b[92m+ PyCall v1.96.2\u001b[39m\n",
            " \u001b[90m [d330b81b] \u001b[39m\u001b[92m+ PyPlot v2.11.2\u001b[39m\n",
            " \u001b[90m [3cdcf5f2] \u001b[39m\u001b[92m+ RecipesBase v1.3.4\u001b[39m\n",
            " \u001b[90m [01d81517] \u001b[39m\u001b[92m+ RecipesPipeline v0.6.12\u001b[39m\n",
            " \u001b[90m [189a3867] \u001b[39m\u001b[92m+ Reexport v1.2.2\u001b[39m\n",
            " \u001b[90m [05181044] \u001b[39m\u001b[92m+ RelocatableFolders v1.0.1\u001b[39m\n",
            " \u001b[90m [ae029012] \u001b[39m\u001b[92m+ Requires v1.3.0\u001b[39m\n",
            " \u001b[90m [6c6a2e73] \u001b[39m\u001b[92m+ Scratch v1.2.1\u001b[39m\n",
            " \u001b[90m [992d4aef] \u001b[39m\u001b[92m+ Showoff v1.0.3\u001b[39m\n",
            " \u001b[90m [777ac1f9] \u001b[39m\u001b[92m+ SimpleBufferStream v1.1.0\u001b[39m\n",
            " \u001b[90m [a2af1166] \u001b[39m\u001b[92m+ SortingAlgorithms v1.2.0\u001b[39m\n",
            " \u001b[90m [90137ffa] \u001b[39m\u001b[92m+ StaticArrays v1.6.5\u001b[39m\n",
            " \u001b[90m [1e83bf80] \u001b[39m\u001b[92m+ StaticArraysCore v1.4.2\u001b[39m\n",
            " \u001b[90m [82ae8749] \u001b[39m\u001b[92m+ StatsAPI v1.7.0\u001b[39m\n",
            " \u001b[90m [2913bbd2] \u001b[39m\u001b[92m+ StatsBase v0.34.2\u001b[39m\n",
            " \u001b[90m [62fd8b95] \u001b[39m\u001b[92m+ TensorCore v0.1.1\u001b[39m\n",
            " \u001b[90m [3bb67fe8] \u001b[39m\u001b[92m+ TranscodingStreams v0.10.2\u001b[39m\n",
            " \u001b[90m [5c2747f8] \u001b[39m\u001b[92m+ URIs v1.5.1\u001b[39m\n",
            " \u001b[90m [1cfade01] \u001b[39m\u001b[92m+ UnicodeFun v0.4.1\u001b[39m\n",
            " \u001b[90m [b8865327] \u001b[39m\u001b[92m+ UnicodePlots v3.6.0\u001b[39m\n",
            " \u001b[90m [1986cc42] \u001b[39m\u001b[92m+ Unitful v1.18.0\u001b[39m\n",
            " \u001b[90m [45397f5d] \u001b[39m\u001b[92m+ UnitfulLatexify v1.6.3\u001b[39m\n",
            " \u001b[90m [41fe7b60] \u001b[39m\u001b[92m+ Unzip v0.2.0\u001b[39m\n",
            " \u001b[90m [6e34b625] \u001b[39m\u001b[92m+ Bzip2_jll v1.0.8+0\u001b[39m\n",
            " \u001b[90m [83423d85] \u001b[39m\u001b[92m+ Cairo_jll v1.16.1+1\u001b[39m\n",
            " \u001b[90m [2702e6a9] \u001b[39m\u001b[92m+ EpollShim_jll v0.0.20230411+0\u001b[39m\n",
            " \u001b[90m [2e619515] \u001b[39m\u001b[92m+ Expat_jll v2.5.0+0\u001b[39m\n",
            " \u001b[90m [b22a6f82] \u001b[39m\u001b[92m+ FFMPEG_jll v4.4.4+1\u001b[39m\n",
            " \u001b[90m [a3f928ae] \u001b[39m\u001b[92m+ Fontconfig_jll v2.13.93+0\u001b[39m\n",
            " \u001b[90m [d7e528f0] \u001b[39m\u001b[92m+ FreeType2_jll v2.13.1+0\u001b[39m\n",
            " \u001b[90m [559328eb] \u001b[39m\u001b[92m+ FriBidi_jll v1.0.10+0\u001b[39m\n",
            " \u001b[90m [0656b61e] \u001b[39m\u001b[92m+ GLFW_jll v3.3.8+0\u001b[39m\n",
            " \u001b[90m [d2c73de3] \u001b[39m\u001b[92m+ GR_jll v0.72.10+0\u001b[39m\n",
            " \u001b[90m [78b55507] \u001b[39m\u001b[92m+ Gettext_jll v0.21.0+0\u001b[39m\n",
            " \u001b[90m [7746bdde] \u001b[39m\u001b[92m+ Glib_jll v2.76.5+0\u001b[39m\n",
            " \u001b[90m [3b182d85] \u001b[39m\u001b[92m+ Graphite2_jll v1.3.14+0\u001b[39m\n",
            " \u001b[90m [2e76f6c2] \u001b[39m\u001b[92m+ HarfBuzz_jll v2.8.1+1\u001b[39m\n",
            " \u001b[90m [aacddb02] \u001b[39m\u001b[92m+ JpegTurbo_jll v2.1.91+0\u001b[39m\n",
            " \u001b[90m [c1c5ebd0] \u001b[39m\u001b[92m+ LAME_jll v3.100.1+0\u001b[39m\n",
            " \u001b[90m [88015f11] \u001b[39m\u001b[92m+ LERC_jll v3.0.0+1\u001b[39m\n",
            " \u001b[90m [1d63c593] \u001b[39m\u001b[92m+ LLVMOpenMP_jll v15.0.4+0\u001b[39m\n",
            " \u001b[90m [dd4b983a] \u001b[39m\u001b[92m+ LZO_jll v2.10.1+0\u001b[39m\n",
            "\u001b[33m⌅\u001b[39m\u001b[90m [e9f186c6] \u001b[39m\u001b[92m+ Libffi_jll v3.2.2+1\u001b[39m\n",
            " \u001b[90m [d4300ac3] \u001b[39m\u001b[92m+ Libgcrypt_jll v1.8.7+0\u001b[39m\n",
            " \u001b[90m [7e76a0d4] \u001b[39m\u001b[92m+ Libglvnd_jll v1.6.0+0\u001b[39m\n",
            " \u001b[90m [7add5ba3] \u001b[39m\u001b[92m+ Libgpg_error_jll v1.42.0+0\u001b[39m\n",
            " \u001b[90m [94ce4f54] \u001b[39m\u001b[92m+ Libiconv_jll v1.17.0+0\u001b[39m\n",
            " \u001b[90m [4b2f31a3] \u001b[39m\u001b[92m+ Libmount_jll v2.35.0+0\u001b[39m\n",
            " \u001b[90m [89763e89] \u001b[39m\u001b[92m+ Libtiff_jll v4.5.1+1\u001b[39m\n",
            " \u001b[90m [38a345b3] \u001b[39m\u001b[92m+ Libuuid_jll v2.36.0+0\u001b[39m\n",
            " \u001b[90m [e7412a2a] \u001b[39m\u001b[92m+ Ogg_jll v1.3.5+1\u001b[39m\n",
            " \u001b[90m [458c3c95] \u001b[39m\u001b[92m+ OpenSSL_jll v3.0.12+0\u001b[39m\n",
            " \u001b[90m [91d4177d] \u001b[39m\u001b[92m+ Opus_jll v1.3.2+0\u001b[39m\n",
            " \u001b[90m [30392449] \u001b[39m\u001b[92m+ Pixman_jll v0.42.2+0\u001b[39m\n",
            " \u001b[90m [c0090381] \u001b[39m\u001b[92m+ Qt6Base_jll v6.5.3+1\u001b[39m\n",
            " \u001b[90m [a44049a8] \u001b[39m\u001b[92m+ Vulkan_Loader_jll v1.3.243+0\u001b[39m\n",
            " \u001b[90m [a2964d1f] \u001b[39m\u001b[92m+ Wayland_jll v1.21.0+1\u001b[39m\n",
            " \u001b[90m [2381bf8a] \u001b[39m\u001b[92m+ Wayland_protocols_jll v1.25.0+0\u001b[39m\n",
            " \u001b[90m [02c8fc9c] \u001b[39m\u001b[92m+ XML2_jll v2.11.5+0\u001b[39m\n",
            " \u001b[90m [aed1982a] \u001b[39m\u001b[92m+ XSLT_jll v1.1.34+0\u001b[39m\n",
            " \u001b[90m [ffd25f8a] \u001b[39m\u001b[92m+ XZ_jll v5.4.5+0\u001b[39m\n",
            " \u001b[90m [f67eecfb] \u001b[39m\u001b[92m+ Xorg_libICE_jll v1.0.10+1\u001b[39m\n",
            " \u001b[90m [c834827a] \u001b[39m\u001b[92m+ Xorg_libSM_jll v1.2.3+0\u001b[39m\n",
            " \u001b[90m [4f6342f7] \u001b[39m\u001b[92m+ Xorg_libX11_jll v1.8.6+0\u001b[39m\n",
            " \u001b[90m [0c0b7dd1] \u001b[39m\u001b[92m+ Xorg_libXau_jll v1.0.11+0\u001b[39m\n",
            " \u001b[90m [935fb764] \u001b[39m\u001b[92m+ Xorg_libXcursor_jll v1.2.0+4\u001b[39m\n",
            " \u001b[90m [a3789734] \u001b[39m\u001b[92m+ Xorg_libXdmcp_jll v1.1.4+0\u001b[39m\n",
            " \u001b[90m [1082639a] \u001b[39m\u001b[92m+ Xorg_libXext_jll v1.3.4+4\u001b[39m\n",
            " \u001b[90m [d091e8ba] \u001b[39m\u001b[92m+ Xorg_libXfixes_jll v5.0.3+4\u001b[39m\n",
            " \u001b[90m [a51aa0fd] \u001b[39m\u001b[92m+ Xorg_libXi_jll v1.7.10+4\u001b[39m\n",
            " \u001b[90m [d1454406] \u001b[39m\u001b[92m+ Xorg_libXinerama_jll v1.1.4+4\u001b[39m\n",
            " \u001b[90m [ec84b674] \u001b[39m\u001b[92m+ Xorg_libXrandr_jll v1.5.2+4\u001b[39m\n",
            " \u001b[90m [ea2f1a96] \u001b[39m\u001b[92m+ Xorg_libXrender_jll v0.9.10+4\u001b[39m\n",
            " \u001b[90m [14d82f49] \u001b[39m\u001b[92m+ Xorg_libpthread_stubs_jll v0.1.1+0\u001b[39m\n",
            " \u001b[90m [c7cfdc94] \u001b[39m\u001b[92m+ Xorg_libxcb_jll v1.15.0+0\u001b[39m\n",
            " \u001b[90m [cc61e674] \u001b[39m\u001b[92m+ Xorg_libxkbfile_jll v1.1.2+0\u001b[39m\n",
            " \u001b[90m [e920d4aa] \u001b[39m\u001b[92m+ Xorg_xcb_util_cursor_jll v0.1.4+0\u001b[39m\n",
            " \u001b[90m [12413925] \u001b[39m\u001b[92m+ Xorg_xcb_util_image_jll v0.4.0+1\u001b[39m\n",
            " \u001b[90m [2def613f] \u001b[39m\u001b[92m+ Xorg_xcb_util_jll v0.4.0+1\u001b[39m\n",
            " \u001b[90m [975044d2] \u001b[39m\u001b[92m+ Xorg_xcb_util_keysyms_jll v0.4.0+1\u001b[39m\n",
            " \u001b[90m [0d47668e] \u001b[39m\u001b[92m+ Xorg_xcb_util_renderutil_jll v0.3.9+1\u001b[39m\n",
            " \u001b[90m [c22f9ab0] \u001b[39m\u001b[92m+ Xorg_xcb_util_wm_jll v0.4.1+1\u001b[39m\n",
            " \u001b[90m [35661453] \u001b[39m\u001b[92m+ Xorg_xkbcomp_jll v1.4.6+0\u001b[39m\n",
            " \u001b[90m [33bec58e] \u001b[39m\u001b[92m+ Xorg_xkeyboard_config_jll v2.39.0+0\u001b[39m\n",
            " \u001b[90m [c5fb5394] \u001b[39m\u001b[92m+ Xorg_xtrans_jll v1.5.0+0\u001b[39m\n",
            " \u001b[90m [3161d3a3] \u001b[39m\u001b[92m+ Zstd_jll v1.5.5+0\u001b[39m\n",
            " \u001b[90m [35ca27e7] \u001b[39m\u001b[92m+ eudev_jll v3.2.9+0\u001b[39m\n",
            "\u001b[33m⌅\u001b[39m\u001b[90m [214eeab7] \u001b[39m\u001b[92m+ fzf_jll v0.35.1+0\u001b[39m\n",
            " \u001b[90m [1a1c6b14] \u001b[39m\u001b[92m+ gperf_jll v3.1.1+0\u001b[39m\n",
            " \u001b[90m [a4ae2306] \u001b[39m\u001b[92m+ libaom_jll v3.4.0+0\u001b[39m\n",
            " \u001b[90m [0ac62f75] \u001b[39m\u001b[92m+ libass_jll v0.15.1+0\u001b[39m\n",
            " \u001b[90m [2db6ffa8] \u001b[39m\u001b[92m+ libevdev_jll v1.11.0+0\u001b[39m\n",
            " \u001b[90m [f638f0a6] \u001b[39m\u001b[92m+ libfdk_aac_jll v2.0.2+0\u001b[39m\n",
            " \u001b[90m [36db933b] \u001b[39m\u001b[92m+ libinput_jll v1.18.0+0\u001b[39m\n",
            " \u001b[90m [b53b4c65] \u001b[39m\u001b[92m+ libpng_jll v1.6.38+0\u001b[39m\n",
            " \u001b[90m [f27f6e37] \u001b[39m\u001b[92m+ libvorbis_jll v1.3.7+1\u001b[39m\n",
            " \u001b[90m [009596ad] \u001b[39m\u001b[92m+ mtdev_jll v1.1.6+0\u001b[39m\n",
            " \u001b[90m [1270edf5] \u001b[39m\u001b[92m+ x264_jll v2021.5.5+0\u001b[39m\n",
            " \u001b[90m [dfaa095f] \u001b[39m\u001b[92m+ x265_jll v3.5.0+0\u001b[39m\n",
            " \u001b[90m [d8fb68d0] \u001b[39m\u001b[92m+ xkbcommon_jll v1.4.1+1\u001b[39m\n",
            " \u001b[90m [8bb1440f] \u001b[39m\u001b[92m+ DelimitedFiles\u001b[39m\n",
            " \u001b[90m [05823500] \u001b[39m\u001b[92m+ OpenLibm_jll v0.8.1+0\u001b[39m\n",
            " \u001b[90m [efcefdf7] \u001b[39m\u001b[92m+ PCRE2_jll v10.40.0+0\u001b[39m\n",
            "\u001b[36m\u001b[1m        Info\u001b[22m\u001b[39m Packages marked with \u001b[33m⌅\u001b[39m have new versions available but compatibility constraints restrict them from upgrading. To see why use `status --outdated -m`\n",
            "\u001b[32m\u001b[1m    Building\u001b[22m\u001b[39m PyCall → `~/.julia/scratchspaces/44cfe95a-1eb2-52ea-b672-e2afdf69b78f/1cb97fa63a3629c6d892af4f76fcc4ad8191837c/build.log`\n",
            "\u001b[32m\u001b[1mPrecompiling\u001b[22m\u001b[39m project...\n",
            "\u001b[32m  ✓ \u001b[39m\u001b[90mTensorCore\u001b[39m\n",
            "\u001b[32m  ✓ \u001b[39m\u001b[90mStatsAPI\u001b[39m\n",
            "\u001b[32m  ✓ \u001b[39m\u001b[90mLaTeXStrings\u001b[39m\n",
            "\u001b[32m  ✓ \u001b[39m\u001b[90mContour\u001b[39m\n",
            "\u001b[32m  ✓ \u001b[39m\u001b[90mConcurrentUtilities\u001b[39m\n",
            "\u001b[32m  ✓ \u001b[39m\u001b[90mPipe\u001b[39m\n",
            "\u001b[32m  ✓ \u001b[39m\u001b[90mXorg_libICE_jll\u001b[39m\n",
            "\u001b[32m  ✓ \u001b[39m\u001b[90mOpenLibm_jll\u001b[39m\n",
            "\u001b[32m  ✓ \u001b[39m\u001b[90mMeasures\u001b[39m\n",
            "\u001b[32m  ✓ \u001b[39m\u001b[90mInverseFunctions\u001b[39m\n",
            "\u001b[32m  ✓ \u001b[39m\u001b[90mGrisu\u001b[39m\n",
            "\u001b[32m  ✓ \u001b[39m\u001b[90mFixedPointNumbers\u001b[39m\n",
            "\u001b[32m  ✓ \u001b[39m\u001b[90mCompat\u001b[39m\n",
            "\u001b[32m  ✓ \u001b[39m\u001b[90mOrderedCollections\u001b[39m\n",
            "\u001b[32m  ✓ \u001b[39m\u001b[90mRequires\u001b[39m\n",
            "\u001b[32m  ✓ \u001b[39m\u001b[90mUnzip\u001b[39m\n",
            "\u001b[32m  ✓ \u001b[39m\u001b[90mReexport\u001b[39m\n",
            "\u001b[32m  ✓ \u001b[39m\u001b[90mMacroTools\u001b[39m\n",
            "\u001b[32m  ✓ \u001b[39m\u001b[90mDocStringExtensions\u001b[39m\n",
            "\u001b[32m  ✓ \u001b[39m\u001b[90mSimpleBufferStream\u001b[39m\n",
            "\u001b[32m  ✓ \u001b[39m\u001b[90mURIs\u001b[39m\n",
            "\u001b[32m  ✓ \u001b[39m\u001b[90mIrrationalConstants\u001b[39m\n",
            "\u001b[32m  ✓ \u001b[39m\u001b[90mExceptionUnwrapping\u001b[39m\n",
            "\u001b[32m  ✓ \u001b[39m\u001b[90mUnicodeFun\u001b[39m\n",
            "\u001b[32m  ✓ \u001b[39m\u001b[90mPCRE2_jll\u001b[39m\n",
            "\u001b[32m  ✓ \u001b[39m\u001b[90mFormatting\u001b[39m\n",
            "\u001b[32m  ✓ \u001b[39m\u001b[90mDataAPI\u001b[39m\n",
            "\u001b[32m  ✓ \u001b[39m\u001b[90mConstructionBase\u001b[39m\n",
            "\u001b[32m  ✓ \u001b[39m\u001b[90mTranscodingStreams\u001b[39m\n",
            "\u001b[32m  ✓ \u001b[39m\u001b[90mBitFlags\u001b[39m\n",
            "\u001b[32m  ✓ \u001b[39m\u001b[90mScratch\u001b[39m\n",
            "\u001b[32m  ✓ \u001b[39m\u001b[90mLoggingExtras\u001b[39m\n",
            "\u001b[32m  ✓ \u001b[39m\u001b[90mStaticArraysCore\u001b[39m\n",
            "\u001b[32m  ✓ \u001b[39m\u001b[90mCrayons\u001b[39m\n",
            "\u001b[32m  ✓ \u001b[39m\u001b[90mGraphite2_jll\u001b[39m\n",
            "\u001b[32m  ✓ \u001b[39m\u001b[90mOpenSSL_jll\u001b[39m\n",
            "\u001b[32m  ✓ \u001b[39m\u001b[90mEpollShim_jll\u001b[39m\n",
            "\u001b[32m  ✓ \u001b[39m\u001b[90mLibmount_jll\u001b[39m\n",
            "\u001b[32m  ✓ \u001b[39m\u001b[90mRecipesBase\u001b[39m\n",
            "\u001b[32m  ✓ \u001b[39m\u001b[90mLLVMOpenMP_jll\u001b[39m\n",
            "\u001b[32m  ✓ \u001b[39m\u001b[90mBzip2_jll\u001b[39m\n",
            "\u001b[32m  ✓ \u001b[39m\u001b[90mXorg_libXau_jll\u001b[39m\n",
            "\u001b[32m  ✓ \u001b[39m\u001b[90mlibpng_jll\u001b[39m\n",
            "\u001b[32m  ✓ \u001b[39m\u001b[90mlibfdk_aac_jll\u001b[39m\n",
            "\u001b[32m  ✓ \u001b[39m\u001b[90mLAME_jll\u001b[39m\n",
            "\u001b[32m  ✓ \u001b[39m\u001b[90mLERC_jll\u001b[39m\n",
            "\u001b[32m  ✓ \u001b[39m\u001b[90mfzf_jll\u001b[39m\n",
            "\u001b[32m  ✓ \u001b[39m\u001b[90mJpegTurbo_jll\u001b[39m\n",
            "\u001b[32m  ✓ \u001b[39m\u001b[90mOgg_jll\u001b[39m\n",
            "\u001b[32m  ✓ \u001b[39m\u001b[90mXZ_jll\u001b[39m\n",
            "\u001b[32m  ✓ \u001b[39m\u001b[90mmtdev_jll\u001b[39m\n",
            "\u001b[32m  ✓ \u001b[39m\u001b[90mgperf_jll\u001b[39m\n",
            "\u001b[32m  ✓ \u001b[39m\u001b[90mXorg_libXdmcp_jll\u001b[39m\n",
            "\u001b[32m  ✓ \u001b[39m\u001b[90mx265_jll\u001b[39m\n",
            "\u001b[32m  ✓ \u001b[39m\u001b[90mx264_jll\u001b[39m\n",
            "\u001b[32m  ✓ \u001b[39m\u001b[90mlibaom_jll\u001b[39m\n",
            "\u001b[32m  ✓ \u001b[39m\u001b[90mZstd_jll\u001b[39m\n",
            "\u001b[32m  ✓ \u001b[39m\u001b[90mExpat_jll\u001b[39m\n",
            "\u001b[32m  ✓ \u001b[39m\u001b[90mLZO_jll\u001b[39m\n",
            "\u001b[32m  ✓ \u001b[39m\u001b[90mOpus_jll\u001b[39m\n",
            "\u001b[32m  ✓ \u001b[39m\u001b[90mXorg_xtrans_jll\u001b[39m\n",
            "\u001b[32m  ✓ \u001b[39m\u001b[90mlibevdev_jll\u001b[39m\n",
            "\u001b[32m  ✓ \u001b[39m\u001b[90mLibiconv_jll\u001b[39m\n",
            "\u001b[32m  ✓ \u001b[39m\u001b[90mLibffi_jll\u001b[39m\n",
            "\u001b[32m  ✓ \u001b[39m\u001b[90mLibgpg_error_jll\u001b[39m\n",
            "\u001b[32m  ✓ \u001b[39m\u001b[90mWayland_protocols_jll\u001b[39m\n",
            "\u001b[32m  ✓ \u001b[39m\u001b[90mXorg_libpthread_stubs_jll\u001b[39m\n",
            "\u001b[32m  ✓ \u001b[39m\u001b[90mFriBidi_jll\u001b[39m\n",
            "\u001b[32m  ✓ \u001b[39m\u001b[90mLibuuid_jll\u001b[39m\n",
            "\u001b[32m  ✓ \u001b[39m\u001b[90mNaNMath\u001b[39m\n",
            "\u001b[32m  ✓ \u001b[39m\u001b[90mShowoff\u001b[39m\n",
            "\u001b[32m  ✓ \u001b[39m\u001b[90mChangesOfVariables\u001b[39m\n",
            "\u001b[32m  ✓ \u001b[39m\u001b[90mXorg_libSM_jll\u001b[39m\n",
            "\u001b[32m  ✓ \u001b[39m\u001b[90mChainRulesCore\u001b[39m\n",
            "\u001b[32m  ✓ \u001b[39m\u001b[90mColorTypes\u001b[39m\n",
            "\u001b[32m  ✓ \u001b[39m\u001b[90mDataStructures\u001b[39m\n",
            "\u001b[32m  ✓ \u001b[39m\u001b[90mMissings\u001b[39m\n",
            "\u001b[32m  ✓ \u001b[39m\u001b[90mLatexify\u001b[39m\n",
            "\u001b[32m  ✓ \u001b[39m\u001b[90mCodecZlib\u001b[39m\n",
            "\u001b[32m  ✓ \u001b[39m\u001b[90mRelocatableFolders\u001b[39m\n",
            "\u001b[32m  ✓ \u001b[39m\u001b[90mPyCall\u001b[39m\n",
            "\u001b[32m  ✓ \u001b[39m\u001b[90mStaticArrays\u001b[39m\n",
            "\u001b[32m  ✓ \u001b[39m\u001b[90mPixman_jll\u001b[39m\n",
            "\u001b[32m  ✓ \u001b[39m\u001b[90mFreeType2_jll\u001b[39m\n",
            "\u001b[32m  ✓ \u001b[39m\u001b[90mOpenSSL\u001b[39m\n",
            "\u001b[32m  ✓ \u001b[39m\u001b[90mJLFzf\u001b[39m\n",
            "\u001b[32m  ✓ \u001b[39m\u001b[90mlibvorbis_jll\u001b[39m\n",
            "\u001b[32m  ✓ \u001b[39m\u001b[90meudev_jll\u001b[39m\n",
            "\u001b[32m  ✓ \u001b[39m\u001b[90mLibtiff_jll\u001b[39m\n",
            "\u001b[32m  ✓ \u001b[39m\u001b[90mXML2_jll\u001b[39m\n",
            "\u001b[32m  ✓ \u001b[39m\u001b[90mLibgcrypt_jll\u001b[39m\n",
            "\u001b[32m  ✓ \u001b[39m\u001b[90mLogExpFunctions\u001b[39m\n",
            "\u001b[32m  ✓ \u001b[39m\u001b[90mColorVectorSpace\u001b[39m\n",
            "\u001b[32m  ✓ \u001b[39m\u001b[90mSortingAlgorithms\u001b[39m\n",
            "\u001b[32m  ✓ \u001b[39m\u001b[90mColors\u001b[39m\n",
            "\u001b[32m  ✓ \u001b[39m\u001b[90mFontconfig_jll\u001b[39m\n",
            "\u001b[32m  ✓ \u001b[39m\u001b[90mMarchingCubes\u001b[39m\n",
            "\u001b[32m  ✓ \u001b[39m\u001b[90mlibinput_jll\u001b[39m\n",
            "\u001b[32m  ✓ \u001b[39m\u001b[90mGettext_jll\u001b[39m\n",
            "\u001b[32m  ✓ \u001b[39m\u001b[90mWayland_jll\u001b[39m\n",
            "\u001b[32m  ✓ \u001b[39m\u001b[90mHTTP\u001b[39m\n",
            "\u001b[32m  ✓ \u001b[39m\u001b[90mXSLT_jll\u001b[39m\n",
            "\u001b[32m  ✓ \u001b[39m\u001b[90mUnitful\u001b[39m\n",
            "\u001b[32m  ✓ \u001b[39m\u001b[90mStatsBase\u001b[39m\n",
            "\u001b[32m  ✓ \u001b[39m\u001b[90mGlib_jll\u001b[39m\n",
            "\u001b[32m  ✓ \u001b[39m\u001b[90mXorg_libxcb_jll\u001b[39m\n",
            "\u001b[32m  ✓ \u001b[39mPyPlot\n",
            "\u001b[32m  ✓ \u001b[39m\u001b[90mXorg_xcb_util_jll\u001b[39m\n",
            "\u001b[32m  ✓ \u001b[39m\u001b[90mUnitfulLatexify\u001b[39m\n",
            "\u001b[32m  ✓ \u001b[39m\u001b[90mXorg_libX11_jll\u001b[39m\n",
            "\u001b[32m  ✓ \u001b[39m\u001b[90mXorg_xcb_util_keysyms_jll\u001b[39m\n",
            "\u001b[32m  ✓ \u001b[39m\u001b[90mXorg_xcb_util_image_jll\u001b[39m\n",
            "\u001b[32m  ✓ \u001b[39m\u001b[90mXorg_xcb_util_renderutil_jll\u001b[39m\n",
            "\u001b[32m  ✓ \u001b[39m\u001b[90mXorg_xcb_util_wm_jll\u001b[39m\n",
            "\u001b[32m  ✓ \u001b[39m\u001b[90mXorg_libXrender_jll\u001b[39m\n",
            "\u001b[32m  ✓ \u001b[39m\u001b[90mXorg_libXext_jll\u001b[39m\n",
            "\u001b[32m  ✓ \u001b[39m\u001b[90mXorg_libXfixes_jll\u001b[39m\n",
            "\u001b[32m  ✓ \u001b[39m\u001b[90mXorg_libxkbfile_jll\u001b[39m\n",
            "\u001b[32m  ✓ \u001b[39m\u001b[90mXorg_xcb_util_cursor_jll\u001b[39m\n",
            "\u001b[32m  ✓ \u001b[39m\u001b[90mLibglvnd_jll\u001b[39m\n",
            "\u001b[32m  ✓ \u001b[39m\u001b[90mXorg_libXinerama_jll\u001b[39m\n",
            "\u001b[32m  ✓ \u001b[39m\u001b[90mXorg_libXrandr_jll\u001b[39m\n",
            "\u001b[32m  ✓ \u001b[39m\u001b[90mCairo_jll\u001b[39m\n",
            "\u001b[32m  ✓ \u001b[39m\u001b[90mXorg_libXcursor_jll\u001b[39m\n",
            "\u001b[32m  ✓ \u001b[39m\u001b[90mXorg_libXi_jll\u001b[39m\n",
            "\u001b[32m  ✓ \u001b[39m\u001b[90mXorg_xkbcomp_jll\u001b[39m\n",
            "\u001b[32m  ✓ \u001b[39m\u001b[90mColorSchemes\u001b[39m\n",
            "\u001b[32m  ✓ \u001b[39m\u001b[90mHarfBuzz_jll\u001b[39m\n",
            "\u001b[32m  ✓ \u001b[39m\u001b[90mGLFW_jll\u001b[39m\n",
            "\u001b[32m  ✓ \u001b[39m\u001b[90mXorg_xkeyboard_config_jll\u001b[39m\n",
            "\u001b[32m  ✓ \u001b[39m\u001b[90mlibass_jll\u001b[39m\n",
            "\u001b[32m  ✓ \u001b[39m\u001b[90mxkbcommon_jll\u001b[39m\n",
            "\u001b[32m  ✓ \u001b[39m\u001b[90mFFMPEG_jll\u001b[39m\n",
            "\u001b[32m  ✓ \u001b[39m\u001b[90mVulkan_Loader_jll\u001b[39m\n",
            "\u001b[32m  ✓ \u001b[39m\u001b[90mFFMPEG\u001b[39m\n",
            "\u001b[32m  ✓ \u001b[39m\u001b[90mQt6Base_jll\u001b[39m\n",
            "\u001b[32m  ✓ \u001b[39m\u001b[90mGR_jll\u001b[39m\n",
            "\u001b[32m  ✓ \u001b[39mGR\n",
            "\u001b[32m  ✓ \u001b[39m\u001b[90mPlotUtils\u001b[39m\n",
            "\u001b[32m  ✓ \u001b[39m\u001b[90mPlotThemes\u001b[39m\n",
            "\u001b[32m  ✓ \u001b[39m\u001b[90mRecipesPipeline\u001b[39m\n",
            "\u001b[32m  ✓ \u001b[39mUnicodePlots\n",
            "\u001b[32m  ✓ \u001b[39mPlots\n",
            "  143 dependencies successfully precompiled in 264 seconds. 20 already precompiled.\n"
          ]
        }
      ]
    },
    {
      "cell_type": "code",
      "source": [
        "using Plots\n",
        "pyplot()"
      ],
      "metadata": {
        "colab": {
          "base_uri": "https://localhost:8080/"
        },
        "id": "oKBs5uBsfzWu",
        "outputId": "504106a9-59e3-4207-d510-75742e877ac8"
      },
      "execution_count": null,
      "outputs": [
        {
          "output_type": "execute_result",
          "data": {
            "text/plain": [
              "Plots.PyPlotBackend()"
            ]
          },
          "metadata": {},
          "execution_count": 5
        }
      ]
    },
    {
      "cell_type": "code",
      "source": [
        "eq(d) = d^2\n",
        "plot(eq, -200,200)"
      ],
      "metadata": {
        "colab": {
          "base_uri": "https://localhost:8080/",
          "height": 417
        },
        "id": "UghyRkITgSev",
        "outputId": "532d6574-42d3-4b7f-ca40-a95291c99f1b"
      },
      "execution_count": null,
      "outputs": [
        {
          "output_type": "execute_result",
          "data": {
            "image/png": "[encoded data removed]"
          },
          "metadata": {},
          "execution_count": 6
        }
      ]
    },
    {
      "cell_type": "code",
      "source": [
        "A= Float64[0.269, 0.066,-1.121,-0.349,0.545,0.64,-0.958,-0.114,-1.377,-0.006,1.352,1.006]\n"
      ],
      "metadata": {
        "colab": {
          "base_uri": "https://localhost:8080/"
        },
        "id": "_O0kkNUTrsL2",
        "outputId": "462c2f52-0e17-44e6-c048-0f3114a912e4"
      },
      "execution_count": null,
      "outputs": [
        {
          "output_type": "execute_result",
          "data": {
            "text/plain": [
              "12-element Vector{Float64}:\n",
              "  0.269\n",
              "  0.066\n",
              " -1.121\n",
              " -0.349\n",
              "  0.545\n",
              "  0.64\n",
              " -0.958\n",
              " -0.114\n",
              " -1.377\n",
              " -0.006\n",
              "  1.352\n",
              "  1.006"
            ]
          },
          "metadata": {},
          "execution_count": 7
        }
      ]
    },
    {
      "cell_type": "code",
      "source": [
        "print(\"¿Cuántos años tienes?\")\n",
        "edad = readline()\n",
        "\n"
      ],
      "metadata": {
        "colab": {
          "base_uri": "https://localhost:8080/"
        },
        "id": "z3l9oQyvWBr9",
        "outputId": "9c345964-5869-4e1d-8a62-22c4cf6202c7"
      },
      "execution_count": null,
      "outputs": [
        {
          "name": "stdout",
          "output_type": "stream",
          "text": [
            "¿Cuántos años tienes?stdin> 34\n"
          ]
        },
        {
          "output_type": "execute_result",
          "data": {
            "text/plain": [
              "\"34\""
            ]
          },
          "metadata": {},
          "execution_count": 8
        }
      ]
    },
    {
      "cell_type": "code",
      "source": [
        "b=parse(Int,edad)\n",
        "\n"
      ],
      "metadata": {
        "colab": {
          "base_uri": "https://localhost:8080/"
        },
        "id": "v9q-AdPFvUQ4",
        "outputId": "14eb67dc-cb4e-4183-ae62-aeb83185512f"
      },
      "execution_count": null,
      "outputs": [
        {
          "output_type": "execute_result",
          "data": {
            "text/plain": [
              "34"
            ]
          },
          "metadata": {},
          "execution_count": 9
        }
      ]
    },
    {
      "cell_type": "code",
      "source": [
        "typeof(b)"
      ],
      "metadata": {
        "colab": {
          "base_uri": "https://localhost:8080/"
        },
        "id": "ISQ7EgUCval5",
        "outputId": "12074cc7-2aff-4ced-a23b-a1ecbb2d5627"
      },
      "execution_count": null,
      "outputs": [
        {
          "output_type": "execute_result",
          "data": {
            "text/plain": [
              "Int64"
            ]
          },
          "metadata": {},
          "execution_count": 10
        }
      ]
    },
    {
      "cell_type": "code",
      "source": [
        "using Plots\n",
        "\n",
        "f(x) = exp(-x)\n",
        "plot(f, -3, 3)"
      ],
      "metadata": {
        "colab": {
          "base_uri": "https://localhost:8080/",
          "height": 417
        },
        "id": "Jnt9VIWY2jDb",
        "outputId": "fa45412d-b2ba-4bec-b24b-fdbef449b032"
      },
      "execution_count": null,
      "outputs": [
        {
          "output_type": "execute_result",
          "data": {
            "image/png": "[encoded data removed]"
          },
          "metadata": {},
          "execution_count": 11
        }
      ]
    },
    {
      "cell_type": "code",
      "source": [
        "using Plots\n",
        "x=1:10\n",
        "y=x.^2\n",
        "plot(x,y)"
      ],
      "metadata": {
        "colab": {
          "base_uri": "https://localhost:8080/",
          "height": 417
        },
        "id": "CJ3-3CifgMuQ",
        "outputId": "f7aad4f7-1edc-4e37-a53e-d702fcaa1489"
      },
      "execution_count": null,
      "outputs": [
        {
          "output_type": "execute_result",
          "data": {
            "image/png": "[encoded data removed]"
          },
          "metadata": {},
          "execution_count": 12
        }
      ]
    },
    {
      "cell_type": "code",
      "source": [
        "] add RCall  DataArrays DataFrames\n"
      ],
      "metadata": {
        "colab": {
          "base_uri": "https://localhost:8080/"
        },
        "id": "QyD8_5ukgMsv",
        "outputId": "654e99bb-4185-42d3-c49d-a839069ad79b"
      },
      "execution_count": null,
      "outputs": [
        {
          "output_type": "stream",
          "name": "stderr",
          "text": [
            "\u001b[32m\u001b[1m   Resolving\u001b[22m\u001b[39m package versions...\n",
            "\u001b[32m\u001b[1m   Installed\u001b[22m\u001b[39m InvertedIndices ───────────── v1.3.0\n",
            "\u001b[32m\u001b[1m   Installed\u001b[22m\u001b[39m Missings ──────────────────── v0.4.5\n",
            "\u001b[32m\u001b[1m   Installed\u001b[22m\u001b[39m StatsFuns ─────────────────── v0.9.7\n",
            "\u001b[32m\u001b[1m   Installed\u001b[22m\u001b[39m PlotUtils ─────────────────── v1.2.0\n",
            "\u001b[32m\u001b[1m   Installed\u001b[22m\u001b[39m InlineStrings ─────────────── v1.4.0\n",
            "\u001b[32m\u001b[1m   Installed\u001b[22m\u001b[39m RCall ─────────────────────── v0.13.18\n",
            "\u001b[32m\u001b[1m   Installed\u001b[22m\u001b[39m DataArrays ────────────────── v0.7.0\n",
            "\u001b[32m\u001b[1m   Installed\u001b[22m\u001b[39m DataFrames ────────────────── v1.5.0\n",
            "\u001b[32m\u001b[1m   Installed\u001b[22m\u001b[39m WinReg ────────────────────── v1.0.0\n",
            "\u001b[32m\u001b[1m   Installed\u001b[22m\u001b[39m Rmath_jll ─────────────────── v0.4.0+0\n",
            "\u001b[32m\u001b[1m   Installed\u001b[22m\u001b[39m StatsModels ───────────────── v0.7.3\n",
            "\u001b[32m\u001b[1m   Installed\u001b[22m\u001b[39m SentinelArrays ────────────── v1.4.1\n",
            "\u001b[32m\u001b[1m   Installed\u001b[22m\u001b[39m SpecialFunctions ──────────── v0.10.3\n",
            "\u001b[32m\u001b[1m   Installed\u001b[22m\u001b[39m SnoopPrecompile ───────────── v1.0.3\n",
            "\u001b[32m\u001b[1m   Installed\u001b[22m\u001b[39m TableTraits ───────────────── v1.0.1\n",
            "\u001b[32m\u001b[1m   Installed\u001b[22m\u001b[39m PooledArrays ──────────────── v1.4.3\n",
            "\u001b[32m\u001b[1m   Installed\u001b[22m\u001b[39m DataValueInterfaces ───────── v1.0.0\n",
            "\u001b[32m\u001b[1m   Installed\u001b[22m\u001b[39m Reexport ──────────────────── v0.2.0\n",
            "\u001b[32m\u001b[1m   Installed\u001b[22m\u001b[39m OpenSpecFun_jll ───────────── v0.5.5+0\n",
            "\u001b[32m\u001b[1m   Installed\u001b[22m\u001b[39m Rmath ─────────────────────── v0.7.1\n",
            "\u001b[32m\u001b[1m   Installed\u001b[22m\u001b[39m Tables ────────────────────── v1.11.1\n",
            "\u001b[32m\u001b[1m   Installed\u001b[22m\u001b[39m StatsBase ─────────────────── v0.33.21\n",
            "\u001b[32m\u001b[1m   Installed\u001b[22m\u001b[39m ShiftedArrays ─────────────── v2.0.0\n",
            "\u001b[32m\u001b[1m   Installed\u001b[22m\u001b[39m CategoricalArrays ─────────── v0.10.8\n",
            "\u001b[32m\u001b[1m   Installed\u001b[22m\u001b[39m IteratorInterfaceExtensions ─ v1.0.0\n",
            "\u001b[32m\u001b[1m   Installed\u001b[22m\u001b[39m StringManipulation ────────── v0.3.4\n",
            "\u001b[32m\u001b[1m   Installed\u001b[22m\u001b[39m PrettyTables ──────────────── v2.2.8\n",
            "\u001b[32m\u001b[1m    Updating\u001b[22m\u001b[39m `~/.julia/environments/v1.8/Project.toml`\n",
            " \u001b[90m [0fe7c1db] \u001b[39m\u001b[92m+ DataArrays v0.7.0\u001b[39m\n",
            "\u001b[32m⌃\u001b[39m\u001b[90m [a93c6f00] \u001b[39m\u001b[92m+ DataFrames v1.5.0\u001b[39m\n",
            " \u001b[90m [6f49c342] \u001b[39m\u001b[92m+ RCall v0.13.18\u001b[39m\n",
            "\u001b[32m\u001b[1m    Updating\u001b[22m\u001b[39m `~/.julia/environments/v1.8/Manifest.toml`\n",
            " \u001b[90m [324d7699] \u001b[39m\u001b[92m+ CategoricalArrays v0.10.8\u001b[39m\n",
            " \u001b[90m [0fe7c1db] \u001b[39m\u001b[92m+ DataArrays v0.7.0\u001b[39m\n",
            "\u001b[32m⌃\u001b[39m\u001b[90m [a93c6f00] \u001b[39m\u001b[92m+ DataFrames v1.5.0\u001b[39m\n",
            " \u001b[90m [e2d170a0] \u001b[39m\u001b[92m+ DataValueInterfaces v1.0.0\u001b[39m\n",
            " \u001b[90m [842dd82b] \u001b[39m\u001b[92m+ InlineStrings v1.4.0\u001b[39m\n",
            " \u001b[90m [41ab1584] \u001b[39m\u001b[92m+ InvertedIndices v1.3.0\u001b[39m\n",
            " \u001b[90m [82899510] \u001b[39m\u001b[92m+ IteratorInterfaceExtensions v1.0.0\u001b[39m\n",
            "\u001b[33m⌅\u001b[39m\u001b[90m [e1d29d7a] \u001b[39m\u001b[95m↓ Missings v1.1.0 ⇒ v0.4.5\u001b[39m\n",
            "\u001b[32m⌃\u001b[39m\u001b[90m [995b91a9] \u001b[39m\u001b[95m↓ PlotUtils v1.3.5 ⇒ v1.2.0\u001b[39m\n",
            " \u001b[90m [2dfb63ee] \u001b[39m\u001b[92m+ PooledArrays v1.4.3\u001b[39m\n",
            " \u001b[90m [08abe8d2] \u001b[39m\u001b[92m+ PrettyTables v2.2.8\u001b[39m\n",
            " \u001b[90m [6f49c342] \u001b[39m\u001b[92m+ RCall v0.13.18\u001b[39m\n",
            "\u001b[33m⌅\u001b[39m\u001b[90m [189a3867] \u001b[39m\u001b[95m↓ Reexport v1.2.2 ⇒ v0.2.0\u001b[39m\n",
            " \u001b[90m [79098fc4] \u001b[39m\u001b[92m+ Rmath v0.7.1\u001b[39m\n",
            " \u001b[90m [91c51154] \u001b[39m\u001b[92m+ SentinelArrays v1.4.1\u001b[39m\n",
            " \u001b[90m [1277b4bf] \u001b[39m\u001b[92m+ ShiftedArrays v2.0.0\u001b[39m\n",
            " \u001b[90m [66db9d55] \u001b[39m\u001b[92m+ SnoopPrecompile v1.0.3\u001b[39m\n",
            "\u001b[33m⌅\u001b[39m\u001b[90m [276daf66] \u001b[39m\u001b[92m+ SpecialFunctions v0.10.3\u001b[39m\n",
            "\u001b[33m⌅\u001b[39m\u001b[90m [2913bbd2] \u001b[39m\u001b[95m↓ StatsBase v0.34.2 ⇒ v0.33.21\u001b[39m\n",
            "\u001b[32m⌃\u001b[39m\u001b[90m [4c63d2b9] \u001b[39m\u001b[92m+ StatsFuns v0.9.7\u001b[39m\n",
            " \u001b[90m [3eaba693] \u001b[39m\u001b[92m+ StatsModels v0.7.3\u001b[39m\n",
            " \u001b[90m [892a3eda] \u001b[39m\u001b[92m+ StringManipulation v0.3.4\u001b[39m\n",
            " \u001b[90m [3783bdb8] \u001b[39m\u001b[92m+ TableTraits v1.0.1\u001b[39m\n",
            " \u001b[90m [bd369af6] \u001b[39m\u001b[92m+ Tables v1.11.1\u001b[39m\n",
            " \u001b[90m [1b915085] \u001b[39m\u001b[92m+ WinReg v1.0.0\u001b[39m\n",
            " \u001b[90m [efe28fd5] \u001b[39m\u001b[92m+ OpenSpecFun_jll v0.5.5+0\u001b[39m\n",
            " \u001b[90m [f50d1b31] \u001b[39m\u001b[92m+ Rmath_jll v0.4.0+0\u001b[39m\n",
            " \u001b[90m [9fa8497b] \u001b[39m\u001b[92m+ Future\u001b[39m\n",
            "\u001b[36m\u001b[1m        Info\u001b[22m\u001b[39m Packages marked with \u001b[32m⌃\u001b[39m and \u001b[33m⌅\u001b[39m have new versions available, but those with \u001b[33m⌅\u001b[39m are restricted by compatibility constraints from upgrading. To see why use `status --outdated -m`\n",
            "\u001b[32m\u001b[1m    Building\u001b[22m\u001b[39m RCall → `~/.julia/scratchspaces/44cfe95a-1eb2-52ea-b672-e2afdf69b78f/3084689b18f9e5e817a6ce9a83a7654d8ad0f2f6/build.log`\n",
            "\u001b[32m\u001b[1mPrecompiling\u001b[22m\u001b[39m project...\n",
            "\u001b[32m  ✓ \u001b[39m\u001b[90mWinReg\u001b[39m\n",
            "\u001b[32m  ✓ \u001b[39m\u001b[90mIteratorInterfaceExtensions\u001b[39m\n",
            "\u001b[32m  ✓ \u001b[39m\u001b[90mShiftedArrays\u001b[39m\n",
            "\u001b[32m  ✓ \u001b[39m\u001b[90mDataValueInterfaces\u001b[39m\n",
            "\u001b[33m  ✓ \u001b[39m\u001b[90mReexport\u001b[39m\n",
            "\u001b[32m  ✓ \u001b[39m\u001b[90mInvertedIndices\u001b[39m\n",
            "\u001b[32m  ✓ \u001b[39m\u001b[90mSentinelArrays\u001b[39m\n",
            "\u001b[33m  ✓ \u001b[39m\u001b[90mMissings\u001b[39m\n",
            "\u001b[32m  ✓ \u001b[39m\u001b[90mSnoopPrecompile\u001b[39m\n",
            "\u001b[32m  ✓ \u001b[39m\u001b[90mPooledArrays\u001b[39m\n",
            "\u001b[32m  ✓ \u001b[39m\u001b[90mRmath_jll\u001b[39m\n",
            "\u001b[32m  ✓ \u001b[39m\u001b[90mOpenSpecFun_jll\u001b[39m\n",
            "\u001b[32m  ✓ \u001b[39m\u001b[90mTableTraits\u001b[39m\n",
            "\u001b[32m  ✓ \u001b[39m\u001b[90mStringManipulation\u001b[39m\n",
            "\u001b[32m  ✓ \u001b[39m\u001b[90mInlineStrings\u001b[39m\n",
            "\u001b[32m  ✓ \u001b[39m\u001b[90mCategoricalArrays\u001b[39m\n",
            "\u001b[32m  ✓ \u001b[39m\u001b[90mRmath\u001b[39m\n",
            "\u001b[33m  ✓ \u001b[39m\u001b[90mStatsBase\u001b[39m\n",
            "\u001b[33m  ✓ \u001b[39m\u001b[90mColors\u001b[39m\n",
            "\u001b[32m  ✓ \u001b[39m\u001b[90mTables\u001b[39m\n",
            "\u001b[32m  ✓ \u001b[39m\u001b[90mSpecialFunctions\u001b[39m\n",
            "\u001b[33m  ✓ \u001b[39mPyPlot\n",
            "\u001b[32m  ✓ \u001b[39m\u001b[90mStatsFuns\u001b[39m\n",
            "\u001b[91m  ✗ \u001b[39mDataArrays\n",
            "\u001b[33m  ✓ \u001b[39m\u001b[90mColorSchemes\u001b[39m\n",
            "\u001b[32m  ✓ \u001b[39m\u001b[90mPrettyTables\u001b[39m\n",
            "\u001b[32m  ✓ \u001b[39m\u001b[90mStatsModels\u001b[39m\n",
            "\u001b[33m  ✓ \u001b[39m\u001b[90mPlotUtils\u001b[39m\n",
            "\u001b[33m  ✓ \u001b[39m\u001b[90mPlotThemes\u001b[39m\n",
            "\u001b[33m  ✓ \u001b[39m\u001b[90mRecipesPipeline\u001b[39m\n",
            "\u001b[32m  ✓ \u001b[39mDataFrames\n",
            "\u001b[32m  ✓ \u001b[39mRCall\n",
            "\u001b[32m  ✓ \u001b[39mUnicodePlots\n",
            "\u001b[33m  ✓ \u001b[39mPlots\n",
            "  33 dependencies successfully precompiled in 222 seconds. 152 already precompiled.\n",
            "  \u001b[33m10\u001b[39m dependencies precompiled but different versions are currently loaded. Restart julia to access the new versions\n",
            "  \u001b[91m1\u001b[39m dependency errored. To see a full report either run `import Pkg; Pkg.precompile()` or load the package\n"
          ]
        }
      ]
    },
    {
      "cell_type": "code",
      "source": [
        "] add RCall"
      ],
      "metadata": {
        "colab": {
          "base_uri": "https://localhost:8080/"
        },
        "id": "NSp94zLVdjLy",
        "outputId": "570f708f-2515-475e-dc30-4938ca6151f8"
      },
      "execution_count": null,
      "outputs": [
        {
          "output_type": "stream",
          "name": "stderr",
          "text": [
            "\u001b[32m\u001b[1m   Resolving\u001b[22m\u001b[39m package versions...\n",
            "\u001b[32m\u001b[1m  No Changes\u001b[22m\u001b[39m to `~/.julia/environments/v1.8/Project.toml`\n",
            "\u001b[32m\u001b[1m  No Changes\u001b[22m\u001b[39m to `~/.julia/environments/v1.8/Manifest.toml`\n"
          ]
        }
      ]
    },
    {
      "cell_type": "code",
      "source": [
        "using RCall, DataFrames,  DataArrays\n"
      ],
      "metadata": {
        "id": "Yu4l1pCQEx_T"
      },
      "execution_count": null,
      "outputs": []
    },
    {
      "cell_type": "code",
      "source": [
        "R\"\"\"\n",
        "      for (x in 1:10)\n",
        "       {print(x)}\n",
        "       \"\"\"\n"
      ],
      "metadata": {
        "colab": {
          "base_uri": "https://localhost:8080/"
        },
        "id": "i_nRPJIANEHu",
        "outputId": "21d602b8-f9ed-48de-cdfc-aac32809d782"
      },
      "execution_count": null,
      "outputs": [
        {
          "output_type": "stream",
          "name": "stdout",
          "text": [
            "[1] 1\n",
            "[1] 2\n",
            "[1] 3\n",
            "[1] 4\n",
            "[1] 5\n",
            "[1] 6\n",
            "[1] 7\n",
            "[1] 8\n",
            "[1] 9\n",
            "[1] 10\n"
          ]
        },
        {
          "output_type": "execute_result",
          "data": {
            "text/plain": [
              "RObject{NilSxp}\n",
              "NULL\n"
            ]
          },
          "metadata": {},
          "execution_count": 17
        }
      ]
    },
    {
      "cell_type": "code",
      "source": [
        "using Pkg\n",
        "Pkg.add(\"RCall\")\n"
      ],
      "metadata": {
        "colab": {
          "base_uri": "https://localhost:8080/"
        },
        "id": "vQnfKg6qfv86",
        "outputId": "23335aa9-768b-4365-bd39-ad305ec33391"
      },
      "execution_count": null,
      "outputs": [
        {
          "output_type": "stream",
          "name": "stderr",
          "text": [
            "\u001b[32m\u001b[1m   Resolving\u001b[22m\u001b[39m package versions...\n",
            "\u001b[32m\u001b[1m  No Changes\u001b[22m\u001b[39m to `~/.julia/environments/v1.8/Project.toml`\n",
            "\u001b[32m\u001b[1m  No Changes\u001b[22m\u001b[39m to `~/.julia/environments/v1.8/Manifest.toml`\n"
          ]
        }
      ]
    },
    {
      "cell_type": "code",
      "source": [
        "using RCall\n",
        "\n",
        "# Ejemplo de código R\n",
        "R\"\"\"\n",
        "print(\"Hola desde R en Julia\")\n",
        "#crear los siguientes vectores\n",
        "#tacos=suadero,tripa,campechano\n",
        "\n",
        "tacos <- c(\"suadero\", \"tripa\",\"campechano\",\"suadero\", \"tripa\", \"tripa\",\"suadero\",\"suadero\",\"tripa\",\"suadero\",\"suadero\",\"campechano\",\n",
        "           \"suadero\",\"tripa\",\"suadero\",\"suadero\",\"campechano\",\"tripa\",\"campechano\",\"suadero\" )\n",
        "\n",
        "tacos\n",
        "\n",
        "#crear una variable  llamada categoria con estos elementos\n",
        "niveles <- c(\"suadero\",\"tripa\",\"campechano\")\n",
        "\n",
        "categoria_tacos <- factor(x =tacos,levels =niveles)\n",
        "categoria_tacos <- factor(x =tacos, levels =niveles)\n",
        "class(categoria_tacos)\n",
        "\n",
        "categoria <- factor (x=c(\"suadero\", \"tripa\",\"campechano\",\"suadero\", \"tripa\", \"tripa\",\"suadero\",\"suadero\",\"tripa\",\"suadero\",\"suadero\",\"campechano\",\n",
        "                         \"suadero\",\"tripa\",\"suadero\",\"suadero\",\"campechano\",\"tripa\",\"campechano\",\"suadero\" ), levels = c(\"suadero\",\"tripa\",\"campechano\"))\n",
        "categoria\n",
        "\n",
        "\n",
        "#calcular el promedio de cada nivel\n",
        "\n",
        "total <- length(tacos)\n",
        "total\n",
        "\n",
        "length(tacos[tacos==\"suadero\"])/length(tacos)\n",
        "length(tacos[tacos==\"tripa\"])/length(tacos)\n",
        "length(tacos[tacos==\"campechano\"])/length(tacos)\n",
        "\n",
        "calcular <- c(length(tacos[tacos==\"suadero\"])/length(tacos),\n",
        "              length(tacos[tacos==\"tripa\"])/length(tacos),\n",
        "              length(tacos[tacos==\"campechano\"])/length(tacos))\n",
        "calcular\n",
        "\n",
        "#suma el total de cada nivel\n",
        "\n",
        "length(tacos[tacos==\"suadero\"])\n",
        "length(tacos[tacos==\"tripa\"])\n",
        "length(tacos[tacos==\"campechano\"])\n",
        "\n",
        "#compara que si el nivel de SUADERO es mayor al nivel TRiPA\n",
        "\n",
        "categoria<- factor(x =tacos, levels =niveles)\n",
        "\n",
        "\n",
        "class(categoria)\n",
        "\n",
        "\n",
        "categoria <- factor (x=c(\"suadero\", \"tripa\",\"campechano\",\"suadero\", \"tripa\", \"tripa\",\"suadero\",\"suadero\",\"tripa\",\"suadero\",\"suadero\",\"campechano\",\n",
        "                         \"suadero\",\"tripa\",\"suadero\",\"suadero\",\"campechano\",\"tripa\",\"campechano\",\"suadero\" ),\n",
        "                     levels = c(\"suadero\",\"campechano\"))\n",
        "categoria\n",
        "\n",
        "\n",
        "par(bg =10)\n",
        "\n",
        "plot(categoria, col=c(8,11,6), sub = \" NIVELES DEL CONSUMO DE TACOS\",\n",
        "     main  =\"TIPOS DE TACOS\", ylab=\"NIVELES\")\n",
        "\n",
        "#realizar el grafico con titulos, subtitulo y titulo  a eje y\n",
        "#colocar color a la grafica y al fondo\n",
        "#aqui saldra la gráfica de lo tres  tipos de tacos\n",
        "\n",
        "par(bg =30)\n",
        "\n",
        "plot(categoria_tacos, col=c(35,5,7), sub = \" NIVELES DEL CONSUMO DE TACOS\",\n",
        "     main  =\"TIPOS DE TACOS\", ylab=\"NIVELES\")\n",
        "\n",
        "#extraer unicamente a los elementos CAMPECHANO Y TRIPA\n",
        "\n",
        "categoria1 <- factor(x=tacos, levels =niveles)\n",
        "class(categoria1)\n",
        "\n",
        "\n",
        "categoria1 <- factor (x=c(\"suadero\", \"tripa\",\"campechano\",\"suadero\", \"tripa\", \"tripa\",\"suadero\",\"suadero\",\"tripa\",\"suadero\",\"suadero\",\"campechano\",\n",
        "                          \"suadero\",\"tripa\",\"suadero\",\"suadero\",\"campechano\",\"tripa\",\"campechano\",\"suadero\"), levels = c(\"tripa\",\"campechano\"))\n",
        "\n",
        "categoria1\n",
        "\n",
        "par(bg =4)\n",
        "\n",
        "plot(categoria1, col=c(8,10,6), sub = \" NIVELES DEL CONSUMO DE TACO\",\n",
        "     main  =\"TIPOS DE TACOS\", ylab=\"NIVELES\")\n",
        "\n",
        "\n",
        "#extraer el elemento mayor de los niveles\n",
        "\n",
        "plot(categoria, col=c(8,11,6), sub = \" NIVELES DEL CONSUMO DE TACO\",\n",
        "     main  =\"TIPOS DE TACOS\", ylab=\"NIVELES\")\n",
        "\n",
        "#dimension de sadero y tripa\n",
        "length(tacos[tacos==\"suadero\"])\n",
        "length(tacos[tacos==\"tripa\"])\n",
        "#cual es el menor elemento de los tacos\n",
        "length(tacos[tacos==\"campechano\"])\n",
        "#creamos la segunda variale llamada cateoria 2\n",
        "categoria2 <- factor(x=tacos, levels =niveles)\n",
        "class(categoria2)\n",
        "categoria2 <- factor (x=c(\"suadero\", \"tripa\",\"campechano\",\"suadero\", \"tripa\", \"tripa\",\"suadero\",\"suadero\",\"tripa\",\"suadero\",\"suadero\",\"campechano\",\n",
        "                          \"suadero\",\"tripa\",\"suadero\",\"suadero\",\"campechano\",\"tripa\",\"campechano\",\"suadero\" ), levels = c(\"campechano\"))\n",
        "\n",
        "categoria2\n",
        "\n",
        "plot(categoria2, col=c(8,11,6), sub = \" NIVELES DEL CONSUMO DE TACOS\",\n",
        "     main  =\"TIPOS DE TACOS\", ylab=\"NIVELES\")\n",
        "\n",
        "\"\"\"\n"
      ],
      "metadata": {
        "colab": {
          "base_uri": "https://localhost:8080/",
          "height": 1000
        },
        "id": "s-nz6Wcpg9oc",
        "outputId": "84973a88-3b40-4cb6-a971-3b4ab7865a79"
      },
      "execution_count": null,
      "outputs": [
        {
          "output_type": "stream",
          "name": "stdout",
          "text": [
            "[1] \"Hola desde R en Julia\"\n"
          ]
        },
        {
          "output_type": "display_data",
          "data": {
            "image/png": "[encoded data removed]"
          },
          "metadata": {}
        },
        {
          "output_type": "display_data",
          "data": {
            "image/png": "[encoded data removed]"
          },
          "metadata": {}
        },
        {
          "output_type": "display_data",
          "data": {
            "image/png": "[encoded data removed]"
          },
          "metadata": {}
        },
        {
          "output_type": "display_data",
          "data": {
            "image/png": "[encoded data removed]"
          },
          "metadata": {}
        },
        {
          "output_type": "display_data",
          "data": {
            "image/png": "[encoded data removed]"
          },
          "metadata": {}
        },
        {
          "output_type": "execute_result",
          "data": {
            "text/plain": [
              "RObject{RealSxp}\n",
              "     [,1]\n",
              "[1,]  0.7\n"
            ]
          },
          "metadata": {},
          "execution_count": 25
        }
      ]
    }
  ]
}